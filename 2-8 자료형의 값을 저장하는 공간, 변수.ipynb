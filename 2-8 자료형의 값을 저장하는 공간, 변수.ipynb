{
 "cells": [
  {
   "cell_type": "markdown",
   "id": "30d3129e",
   "metadata": {},
   "source": [
    "# 변수\n",
    "\n",
    "파이썬에서 사용하는 변수는 객체를 가리키는 것이라고 말할 수 있다\n",
    "\n",
    "(객체 = 우리가 지금껏 보아 온 자료형의 데이터(값)와 같은 것)\n",
    "\n",
    "변수를 만들 때는 =(assigment) 기호를 사용한다\n",
    "\n",
    "변수 이름 = 변수에 저장할 값\n"
   ]
  },
  {
   "cell_type": "code",
   "execution_count": 2,
   "id": "478afcdd",
   "metadata": {},
   "outputs": [],
   "source": [
    "a = [1, 2, 3]"
   ]
  },
  {
   "cell_type": "markdown",
   "id": "603e59ad",
   "metadata": {},
   "source": [
    "id 함수는 변수가 가리키고 있는 객체의 주소 값을 리턴하는 파이썬 내장 함수이다"
   ]
  },
  {
   "cell_type": "code",
   "execution_count": 6,
   "id": "a5fe0715",
   "metadata": {},
   "outputs": [
    {
     "name": "stdout",
     "output_type": "stream",
     "text": [
      "2689199993600\n"
     ]
    }
   ],
   "source": [
    "a = [1, 2, 3]\n",
    "print(id(a))"
   ]
  },
  {
   "cell_type": "markdown",
   "id": "f6d63c46",
   "metadata": {},
   "source": [
    "## 리스트를 복사하고자 할 때"
   ]
  },
  {
   "cell_type": "code",
   "execution_count": 7,
   "id": "a4774e4d",
   "metadata": {},
   "outputs": [],
   "source": [
    "a = [1,2,3]\n",
    "b = a"
   ]
  },
  {
   "cell_type": "code",
   "execution_count": 8,
   "id": "ee63c351",
   "metadata": {},
   "outputs": [
    {
     "name": "stdout",
     "output_type": "stream",
     "text": [
      "2689200580672\n",
      "2689200580672\n"
     ]
    }
   ],
   "source": [
    "print(id(a))\n",
    "print(id(b))"
   ]
  },
  {
   "cell_type": "code",
   "execution_count": 11,
   "id": "08ed17c4",
   "metadata": {},
   "outputs": [
    {
     "name": "stdout",
     "output_type": "stream",
     "text": [
      "True\n"
     ]
    }
   ],
   "source": [
    "print(a is b) #a와 b가 가리키는 객체가 동일한가?"
   ]
  },
  {
   "cell_type": "markdown",
   "id": "65dfc663",
   "metadata": {},
   "source": [
    "### b 변수를 생성할 때 a 변수의 값을 가져오면서 a와는 다른 주소를 가리키도록 만드는 방법"
   ]
  },
  {
   "cell_type": "markdown",
   "id": "5f52d359",
   "metadata": {},
   "source": [
    "#### [:] 이용"
   ]
  },
  {
   "cell_type": "code",
   "execution_count": 14,
   "id": "2da05a1a",
   "metadata": {},
   "outputs": [
    {
     "name": "stdout",
     "output_type": "stream",
     "text": [
      "[1, 4, 3]\n",
      "[1, 2, 3]\n"
     ]
    }
   ],
   "source": [
    "a = [1, 2, 3]\n",
    "b = a[:]\n",
    "a[1] = 4\n",
    "print(a)\n",
    "print(b)"
   ]
  },
  {
   "cell_type": "markdown",
   "id": "9135f298",
   "metadata": {},
   "source": [
    "#### copy 모듈 이용"
   ]
  },
  {
   "cell_type": "code",
   "execution_count": 18,
   "id": "68c0b96d",
   "metadata": {},
   "outputs": [],
   "source": [
    "from copy import copy\n",
    "a = [1,2,3]\n",
    "b = copy(a) #(b = copy(a))= (b = a[:]}"
   ]
  },
  {
   "cell_type": "code",
   "execution_count": 20,
   "id": "5d36671e",
   "metadata": {},
   "outputs": [
    {
     "name": "stdout",
     "output_type": "stream",
     "text": [
      "False\n"
     ]
    }
   ],
   "source": [
    "print(b is a)"
   ]
  },
  {
   "cell_type": "markdown",
   "id": "d060174a",
   "metadata": {},
   "source": [
    "리스트 자료형의 자체 함수인 copy 함수를 사용해도 copy 모듈을 사용하는 것과 동일하다"
   ]
  },
  {
   "cell_type": "code",
   "execution_count": 21,
   "id": "512722e3",
   "metadata": {},
   "outputs": [],
   "source": [
    "a = [1,2,3]\n",
    "b = a.copy()"
   ]
  },
  {
   "cell_type": "code",
   "execution_count": 22,
   "id": "ec1d2a2e",
   "metadata": {},
   "outputs": [
    {
     "name": "stdout",
     "output_type": "stream",
     "text": [
      "False\n"
     ]
    }
   ],
   "source": [
    "print(a is b)"
   ]
  },
  {
   "cell_type": "markdown",
   "id": "ac2dab4d",
   "metadata": {},
   "source": [
    "## 변수를 만드는 여러 가지 방법"
   ]
  },
  {
   "cell_type": "markdown",
   "id": "1836cf12",
   "metadata": {},
   "source": [
    "### 튜플로 a, b에 값을 대입"
   ]
  },
  {
   "cell_type": "code",
   "execution_count": 23,
   "id": "f4317658",
   "metadata": {},
   "outputs": [],
   "source": [
    "(a, b) = 'python', 'life'"
   ]
  },
  {
   "cell_type": "markdown",
   "id": "a50f09a6",
   "metadata": {},
   "source": [
    "### 리스트로 변수를 생성"
   ]
  },
  {
   "cell_type": "code",
   "execution_count": 25,
   "id": "b198d2dc",
   "metadata": {},
   "outputs": [],
   "source": [
    "[a, b] = ['python', 'life']"
   ]
  },
  {
   "cell_type": "markdown",
   "id": "edeaf330",
   "metadata": {},
   "source": [
    "### 여러 개의 변수에 같은 값을 대입"
   ]
  },
  {
   "cell_type": "code",
   "execution_count": 26,
   "id": "37ce10bc",
   "metadata": {},
   "outputs": [],
   "source": [
    "a = b = 'python'"
   ]
  }
 ],
 "metadata": {
  "kernelspec": {
   "display_name": "Python 3 (ipykernel)",
   "language": "python",
   "name": "python3"
  },
  "language_info": {
   "codemirror_mode": {
    "name": "ipython",
    "version": 3
   },
   "file_extension": ".py",
   "mimetype": "text/x-python",
   "name": "python",
   "nbconvert_exporter": "python",
   "pygments_lexer": "ipython3",
   "version": "3.10.9"
  }
 },
 "nbformat": 4,
 "nbformat_minor": 5
}
