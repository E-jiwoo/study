{
 "cells": [
  {
   "cell_type": "markdown",
   "id": "a4ac2325",
   "metadata": {},
   "source": [
    "## 오류\n",
    "\n",
    "FilNotFoundError \n",
    "\n",
    ": 존재하지 않는 파일을 사용하려고 시도했을 때 발생하는 오류\n",
    "\n",
    "ZeroDivisionError\n",
    "\n",
    ": 0으로 다른 숫자를 나누는 경우\n",
    "\n",
    "IndexError\n",
    "\n",
    ": 리스트에 있지 않은 걸 얻을려고 한 경우"
   ]
  },
  {
   "cell_type": "markdown",
   "id": "d7c45d1b",
   "metadata": {},
   "source": [
    "## 오류 예외 처리 기법"
   ]
  },
  {
   "cell_type": "markdown",
   "id": "bb7a7fe7",
   "metadata": {},
   "source": [
    "### try, except문\n",
    "\n",
    "try:\n",
    "\n",
    "    ...\n",
    "\n",
    "except [발생오류 [as 오류변수]]:\n",
    "\n",
    "    ...\n",
    "    \n",
    "try블록 수행 중 오류가 발생하면 except블록이 수행된다\n",
    "\n",
    "하지만 try블록에서 오류가 발생하지 않는다면 except블록은 수행되지 않는다\n",
    "\n",
    "( [ ]기호는 괄호 안의 내용을 생략할 수 있다는 관례적인 표기법이다 )"
   ]
  },
  {
   "cell_type": "markdown",
   "id": "ef98620d",
   "metadata": {},
   "source": [
    "#### expect구문 사용방법\n",
    "\n",
    "1. try, except만 쓰는 방법\n",
    "\n",
    "try:\n",
    "    \n",
    "    ...\n",
    "\n",
    "except:\n",
    "    \n",
    "    ...\n",
    "    \n",
    "이 경우는 오류 종류에 상관없이 오류가 발생하면 except블록을 수행한다\n",
    "\n",
    "2. 발생 오류만 포함한 except문\n",
    "\n",
    "try:\n",
    "    \n",
    "    ...\n",
    "\n",
    "except 발생오류:\n",
    "    \n",
    "    ...\n",
    "    \n",
    "이 경우는 오류가 발생했을 때 except문에 미리 정해 놓은 오류와 동일한 오류일 경우에만 except블록을 수행한다는 뜻이다\n",
    "\n",
    "3. 발생오류와 오류변수까지 포함한 except문\n",
    "\n",
    "try:\n",
    "    \n",
    "    ...\n",
    "\n",
    "except 발생오류 as 오류변수:\n",
    "    \n",
    "    ...\n",
    "    \n",
    "이 경우는 두 번째 경우에서 오류의 내용까지 알고 싶을 때 사용하는 방법이다"
   ]
  },
  {
   "cell_type": "markdown",
   "id": "5e70dfc7",
   "metadata": {},
   "source": [
    "### try .. finally\n",
    "\n",
    "try문에는 finally절을 사용할 수 있다\n",
    "\n",
    "finally절은 try문 수행 도중 예외 발생 여부에 상관없이 항상 수행된다\n",
    "\n",
    "보통 finally절은 사용한 리소스를 close해야할 때 많이 사용한다\n",
    "\n",
    "try:\n",
    "    f=open('foo.txt', 'w')\n",
    "    //무언가를 수행한다\n",
    "    \n",
    "    (...생략...)\n",
    "\n",
    "finally:\n",
    "    \n",
    "    f.close() //중간에 오류가 발생하더라도 무조건 실행된다\n",
    "    \n",
    "foo.txt 파일을 쓰기 모드로 연 후에 try문을 수행한 후 예외 발생 여부와 상관없이 finally절에서 f.close()로 열린 파일을 닫을 수 있다"
   ]
  },
  {
   "cell_type": "markdown",
   "id": "aa6dfbb8",
   "metadata": {},
   "source": [
    "### 여러개의 오류처리하기\n",
    "\n",
    "try문 안에서 여러 개의 오류를 처리\n",
    "\n",
    "try:\n",
    "    \n",
    "    ...\n",
    "\n",
    "except 발생오류1:\n",
    "    \n",
    "    ...\n",
    "    \n",
    "except 발생오류2:\n",
    "    \n",
    "    ...\n",
    "    \n",
    "2개 이상의 오류를 동일하게 처리하기 위해서는 위와 같이 괄호를 사용하여 함께 묶어 처리하면 된다"
   ]
  },
  {
   "cell_type": "markdown",
   "id": "58108e70",
   "metadata": {},
   "source": [
    "### try ... else\n",
    "\n",
    "try문에는 다음처럼 else절을 사용할 수 있다\n",
    "\n",
    "try:\n",
    "    \n",
    "    ...\n",
    "\n",
    "except[발생오류 [as 오류변수]]:\n",
    "    \n",
    "    ...\n",
    "\n",
    "else: //오류가 없을 경우에만 수행된다\n",
    "    \n",
    "    ...\n",
    "    \n",
    "try문 수행중 오류가 발생하면 except절이 수행되고 오류가 없으면 else절이 수행된다"
   ]
  },
  {
   "cell_type": "markdown",
   "id": "43074eca",
   "metadata": {},
   "source": [
    "## 오류 회피하기\n",
    "\n",
    "try:\n",
    "    \n",
    "    f=open(\"나없는파일\", 'r')\n",
    "\n",
    "except FilNotFoundError:\n",
    "    \n",
    "    pass\n",
    "\n",
    "try문 안에서 FilNotFoundError가 발생할 경우에 pass를 사용하여 오류를 그냥 회피하도록 작성한 예제이다"
   ]
  },
  {
   "cell_type": "markdown",
   "id": "13c1fc36",
   "metadata": {},
   "source": [
    "## 오류 일부러 발생시키기\n",
    "\n",
    "raise 명령어를 사용해 오류를 강제로 발생시킬 수 있다"
   ]
  },
  {
   "cell_type": "markdown",
   "id": "56131e9c",
   "metadata": {},
   "source": [
    "## 예외 만들기\n",
    "\n",
    "파이썬 내장 클래스인 Expection 클래스를 상속하여 만들 수 있다\n",
    "\n",
    "프로그램 수행 도중 특수한 경우에만 예외 처리를 하기 위해서 종종 예외를 만들어서 사용한다"
   ]
  }
 ],
 "metadata": {
  "kernelspec": {
   "display_name": "Python 3 (ipykernel)",
   "language": "python",
   "name": "python3"
  },
  "language_info": {
   "codemirror_mode": {
    "name": "ipython",
    "version": 3
   },
   "file_extension": ".py",
   "mimetype": "text/x-python",
   "name": "python",
   "nbconvert_exporter": "python",
   "pygments_lexer": "ipython3",
   "version": "3.10.9"
  }
 },
 "nbformat": 4,
 "nbformat_minor": 5
}
