{
 "cells": [
  {
   "cell_type": "markdown",
   "id": "eef7952c",
   "metadata": {},
   "source": [
    "## 파일 생성하기\n",
    "\n",
    "파일을 생성하기 위해 파이썬 내장 함수 open을 사용\n",
    "\n",
    "f=open(\"새파일.txt\", \"w\")\n",
    "\n",
    "f.close()\n",
    "\n",
    "open 함수는 \"파일 이름\"과 \"파일 열기 모드\"를 입력값으로 받고 결괏값으로 파일 객체를 리턴한다\n",
    "\n",
    "파일 객체 = open(파일 이름, 파일 열기 모드)\n",
    "\n",
    "파일열기모드 / 설명\n",
    "\n",
    "r: 읽기모드-파일을 읽기만 할 때 사용\n",
    "\n",
    "w: 쓰기모드-파일에 내용을 쓸 때 사용\n",
    "\n",
    "a: 추가모드-파일의 마지막에 새로운 내용을 추가 시킬 때 사용\n",
    "    \n",
    "만약 새파일.txt 파일을 C;/doit 디렉터리에 생성하고 싶다면 다음과 같이 작성해야 한다\n",
    "\n",
    "f = open(\"C:/doit/새파일.txt\",\"w\")\n",
    "\n",
    "f.close()\n",
    "\n"
   ]
  },
  {
   "cell_type": "markdown",
   "id": "c00af622",
   "metadata": {},
   "source": [
    "## 파일을 쓰기 모드로 열어 내용 쓰기\n",
    "\n",
    "1. data를 출력하는 방법\n",
    "\n",
    "-> 모니터 화면 대신 파일에 데이터를 적는 방법\n",
    "\n",
    "2. 모니터 화면에 데이터를 출력하는 방법\n",
    "\n",
    "print 함수 대신 파일 객체 f의 write 함수를 사용한 것 말고는 차이점은 없다"
   ]
  },
  {
   "cell_type": "markdown",
   "id": "6d06895b",
   "metadata": {},
   "source": [
    "## 파일을 읽는 여러 가지 방법"
   ]
  },
  {
   "cell_type": "markdown",
   "id": "4b34c4e8",
   "metadata": {},
   "source": [
    "### readline 함수 이용하기"
   ]
  },
  {
   "cell_type": "markdown",
   "id": "a0ce36a9",
   "metadata": {},
   "source": [
    "#readline_all.py\n",
    "\n",
    "f=open(\"C:/doit/새파일.txt\", 'r')\n",
    "\n",
    "while True:\n",
    "\n",
    "    line = f.readline()\n",
    "\n",
    "    if not line: break\n",
    "\n",
    "    print(line)\n",
    "\n",
    "f.close()"
   ]
  },
  {
   "cell_type": "markdown",
   "id": "df9d1675",
   "metadata": {},
   "source": [
    "while True: 무한 루프 안에서 f.redaline()을 사용해 파일을 계속해서 한 줄 씩 읽어 들인다. 만약 더 이상 읽을 줄이 없으면 break를 수행한다\n",
    "    \n",
    "    (readline()은 더 이상 읽을 줄이 없을 경우 빈 문자열('')을 리턴한다)\n",
    "    \n",
    "    -> 한 줄 씩 읽어 출력할 때 줄 끝에 \\n문자가 있으므로 빈줄도 같이 출력된다"
   ]
  },
  {
   "cell_type": "markdown",
   "id": "a40aac55",
   "metadata": {},
   "source": [
    "### readlines 함수사용하기 \n",
    "\n",
    "f = open(\"C:/doit/새파일.txt\", 'r')\n",
    "\n",
    "lines = f.readlines()\n",
    "\n",
    "for line in lines:\n",
    "    \n",
    "    print(line)\n",
    "    \n",
    "f.close()\n",
    "\n",
    "파일의 모든 줄을 읽어서 각각의 줄을 요소로 갖는 리스트를 리턴한다\n",
    "\n",
    "strip함수를 사용하면 줄 바꿈 문자를 제거할 수 있다"
   ]
  },
  {
   "cell_type": "markdown",
   "id": "bbd29a71",
   "metadata": {},
   "source": [
    "### read 함수 사용하기\n",
    "\n",
    "f = open(\"C:/doit/새파일.txt\", 'r')\n",
    "\n",
    "data = f.read()\n",
    "\n",
    "print(data)\n",
    "\n",
    "f.close()\n",
    "\n",
    "파일의 내용 전체를 문자열로 리턴한다"
   ]
  },
  {
   "cell_type": "markdown",
   "id": "6bf1918d",
   "metadata": {},
   "source": [
    "### 파일 객체를 for문과 함께 사용하기\n",
    "\n",
    "f = open(\"C;/doit/새파일.txt\", 'r')\n",
    "\n",
    "for line in f:\n",
    "    \n",
    "    print(line)\n",
    "    \n",
    "f.close()\n",
    "\n",
    "파일 객체(f)는 기본적으로 위와 같이 for문과 함께 사용하여 파일을 줄 단위로 읽을 수 있다"
   ]
  },
  {
   "cell_type": "markdown",
   "id": "0b5be866",
   "metadata": {},
   "source": [
    "## 파일에 새로운 내용 추가하기\n",
    "\n",
    "쓰기 모드('w')로 파일을 열 때 이미 존재하는 파일을 열면 그 파일의 내용이 모두 사라지게 되지만 원래 있던 값을 유지하면서 단지 새로운 값만 추가해야 할 경우에는 파일을 추가모드('a')로 열면 된다"
   ]
  },
  {
   "cell_type": "markdown",
   "id": "9f4bbdc9",
   "metadata": {},
   "source": [
    "## with문과 함께 사용하기\n",
    "\n",
    "파일을 열고 닫는 것을 자동으로 처리해준다\n",
    "\n",
    "f=open(\"foo.txt\", 'w')\n",
    "\n",
    "f.write(\"Life is too short, you need python\")\n",
    "\n",
    "f.close()\n",
    "\n",
    "with open(\"foot.txt\", \"w\") as f:\n",
    "    \n",
    "    f.write(\"Life is too short, you need python\")\n",
    "\n",
    "with 블록(with문에 속해있는 문장)을 벗어나는 순간 열린 파일 객체 f가 자동으로 close된다"
   ]
  }
 ],
 "metadata": {
  "kernelspec": {
   "display_name": "Python 3 (ipykernel)",
   "language": "python",
   "name": "python3"
  },
  "language_info": {
   "codemirror_mode": {
    "name": "ipython",
    "version": 3
   },
   "file_extension": ".py",
   "mimetype": "text/x-python",
   "name": "python",
   "nbconvert_exporter": "python",
   "pygments_lexer": "ipython3",
   "version": "3.10.9"
  }
 },
 "nbformat": 4,
 "nbformat_minor": 5
}
