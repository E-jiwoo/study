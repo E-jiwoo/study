{
 "cells": [
  {
   "cell_type": "markdown",
   "id": "bf2e07be",
   "metadata": {},
   "source": [
    "# 집합 자료형\n",
    "\n",
    "집합에 관련된 것을 쉽게 처리하기 위해 만든 자료형\n",
    "\n",
    "set키워드를 사용해 만들 수 있다\n",
    "\n",
    "set()의 괄호 안에 리스트를 입력하여 만들거나 문자열을 입력하여 만들 수도 있다\n",
    "\n",
    "비어 있는 집합 자료형은 s = set()로 만들 수 있다"
   ]
  },
  {
   "cell_type": "code",
   "execution_count": 1,
   "id": "25659dec",
   "metadata": {},
   "outputs": [
    {
     "name": "stdout",
     "output_type": "stream",
     "text": [
      "{1, 2, 3}\n"
     ]
    }
   ],
   "source": [
    "s1 = set([1, 2, 3])\n",
    "print(s1)"
   ]
  },
  {
   "cell_type": "markdown",
   "id": "cceb6ba9",
   "metadata": {},
   "source": [
    "## 특징\n",
    "\n",
    "중복을 허용하지 않는다\n",
    "\n",
    "순서가 없다\n",
    "\n",
    "만약 set 자료형에 저장된 값을 인덱싱으로 접근하려면 리스트나 튜플로 변환한 후 해야 한다"
   ]
  },
  {
   "cell_type": "markdown",
   "id": "7bc81b65",
   "metadata": {},
   "source": [
    "## 교집합, 합집합, 차집합 구하기\n"
   ]
  },
  {
   "cell_type": "markdown",
   "id": "29aefe0f",
   "metadata": {},
   "source": [
    "### 교집합\n",
    "\n",
    "'&' 기호를 이용하면 교집합을 간단히 구할 수 있다\n",
    "\n",
    "또는 intersection 함수를 사용해도 동일한 결과를 리턴한다"
   ]
  },
  {
   "cell_type": "code",
   "execution_count": 6,
   "id": "b507957d",
   "metadata": {},
   "outputs": [],
   "source": [
    "s1 = set([1, 2, 3, 4, 5, 6])\n",
    "s2 = set([4, 5, 6, 7, 8, 9])"
   ]
  },
  {
   "cell_type": "code",
   "execution_count": 7,
   "id": "03201eb9",
   "metadata": {},
   "outputs": [
    {
     "name": "stdout",
     "output_type": "stream",
     "text": [
      "{4, 5, 6}\n"
     ]
    }
   ],
   "source": [
    "print(s1 & s2)"
   ]
  },
  {
   "cell_type": "code",
   "execution_count": 8,
   "id": "d0cbde44",
   "metadata": {},
   "outputs": [
    {
     "name": "stdout",
     "output_type": "stream",
     "text": [
      "{4, 5, 6}\n"
     ]
    }
   ],
   "source": [
    "print(s1.intersection(s2))"
   ]
  },
  {
   "cell_type": "markdown",
   "id": "42078b7a",
   "metadata": {},
   "source": [
    "### 합집합\n",
    "\n",
    "합집합은 중복해서 포함된 값은 한 개씩만 표현된다\n",
    "\n",
    "'|' 기호를 사용한 방법이다\n",
    "\n",
    "또는 union 함수를 사용하면 된다"
   ]
  },
  {
   "cell_type": "code",
   "execution_count": 9,
   "id": "4215e0ac",
   "metadata": {},
   "outputs": [
    {
     "name": "stdout",
     "output_type": "stream",
     "text": [
      "{1, 2, 3, 4, 5, 6, 7, 8, 9}\n"
     ]
    }
   ],
   "source": [
    "print(s1 | s2)"
   ]
  },
  {
   "cell_type": "code",
   "execution_count": 11,
   "id": "966cb4a7",
   "metadata": {},
   "outputs": [
    {
     "name": "stdout",
     "output_type": "stream",
     "text": [
      "{1, 2, 3, 4, 5, 6, 7, 8, 9}\n"
     ]
    }
   ],
   "source": [
    "print(s1.union(s2))"
   ]
  },
  {
   "cell_type": "markdown",
   "id": "6ea7260e",
   "metadata": {},
   "source": [
    "### 차집합\n",
    "\n",
    "빼기(-) 기호를 사용한 방법이다\n",
    "\n",
    "difference 함수를 사용해도 차집합을 구할 수 있다"
   ]
  },
  {
   "cell_type": "code",
   "execution_count": 12,
   "id": "80c77dff",
   "metadata": {},
   "outputs": [
    {
     "name": "stdout",
     "output_type": "stream",
     "text": [
      "{1, 2, 3}\n",
      "{8, 9, 7}\n"
     ]
    }
   ],
   "source": [
    "print(s1 - s2)\n",
    "print(s2 - s1)"
   ]
  },
  {
   "cell_type": "code",
   "execution_count": 13,
   "id": "a0fdacc9",
   "metadata": {},
   "outputs": [
    {
     "name": "stdout",
     "output_type": "stream",
     "text": [
      "{1, 2, 3}\n",
      "{8, 9, 7}\n"
     ]
    }
   ],
   "source": [
    "print(s1.difference(s2))\n",
    "print(s2.difference(s1))"
   ]
  },
  {
   "cell_type": "markdown",
   "id": "7cd321b4",
   "metadata": {},
   "source": [
    "## 집합 자료형 관련 함수들"
   ]
  },
  {
   "cell_type": "markdown",
   "id": "298dc5b9",
   "metadata": {},
   "source": [
    "### 값 1개 추가하기(add) \n",
    "\n",
    "이미 만들어진 set 자료형에 값을 추가할 수 있다"
   ]
  },
  {
   "cell_type": "code",
   "execution_count": 14,
   "id": "cc11ea0c",
   "metadata": {},
   "outputs": [
    {
     "name": "stdout",
     "output_type": "stream",
     "text": [
      "{1, 2, 3, 4}\n"
     ]
    }
   ],
   "source": [
    "s1 = set([1, 2, 3])\n",
    "s1.add(4)\n",
    "print(s1)"
   ]
  },
  {
   "cell_type": "markdown",
   "id": "44cca029",
   "metadata": {},
   "source": [
    "### 값 여러 개 추가하기(update)\n",
    "\n",
    "여러 개의 값을 한꺼번에 추가(update)할 수 있다"
   ]
  },
  {
   "cell_type": "code",
   "execution_count": 15,
   "id": "3ee8f8b0",
   "metadata": {},
   "outputs": [
    {
     "name": "stdout",
     "output_type": "stream",
     "text": [
      "{1, 2, 3, 4, 5, 6}\n"
     ]
    }
   ],
   "source": [
    "s1 = set([1, 2, 3])\n",
    "s1.update([4, 5, 6])\n",
    "print(s1)"
   ]
  },
  {
   "cell_type": "markdown",
   "id": "b377826d",
   "metadata": {},
   "source": [
    "### 특정 값 제거하기(remove)\n",
    "\n",
    "특정 값을 제거할 수 있다"
   ]
  },
  {
   "cell_type": "code",
   "execution_count": 16,
   "id": "2af1ec4b",
   "metadata": {},
   "outputs": [
    {
     "name": "stdout",
     "output_type": "stream",
     "text": [
      "{1, 3}\n"
     ]
    }
   ],
   "source": [
    "s1 = set([1, 2, 3])\n",
    "s1.remove(2)\n",
    "print(s1)"
   ]
  }
 ],
 "metadata": {
  "kernelspec": {
   "display_name": "Python 3 (ipykernel)",
   "language": "python",
   "name": "python3"
  },
  "language_info": {
   "codemirror_mode": {
    "name": "ipython",
    "version": 3
   },
   "file_extension": ".py",
   "mimetype": "text/x-python",
   "name": "python",
   "nbconvert_exporter": "python",
   "pygments_lexer": "ipython3",
   "version": "3.10.9"
  }
 },
 "nbformat": 4,
 "nbformat_minor": 5
}
