{
 "cells": [
  {
   "cell_type": "markdown",
   "id": "0a65dcf6",
   "metadata": {},
   "source": [
    "## 리스트의 인덱싱"
   ]
  },
  {
   "cell_type": "code",
   "execution_count": 1,
   "id": "ea5af14a",
   "metadata": {},
   "outputs": [
    {
     "name": "stdout",
     "output_type": "stream",
     "text": [
      "[1, 2, 3]\n"
     ]
    }
   ],
   "source": [
    "a = [1,2,3]\n",
    "print(a)"
   ]
  },
  {
   "cell_type": "code",
   "execution_count": 6,
   "id": "16dc7ef6",
   "metadata": {},
   "outputs": [
    {
     "name": "stdout",
     "output_type": "stream",
     "text": [
      "Life\n"
     ]
    }
   ],
   "source": [
    "a = [1, 2, ['a','b', ['Life','is']]]\n",
    "print(a[2][2][0])"
   ]
  },
  {
   "cell_type": "markdown",
   "id": "accc3dae",
   "metadata": {},
   "source": [
    "## 리스트의 슬라이싱"
   ]
  },
  {
   "cell_type": "code",
   "execution_count": 9,
   "id": "2e81d50a",
   "metadata": {},
   "outputs": [
    {
     "name": "stdout",
     "output_type": "stream",
     "text": [
      "[1, 2, 3]\n"
     ]
    }
   ],
   "source": [
    "a = [1, 2, 3, 4, 5]\n",
    "print(a[0:3])"
   ]
  },
  {
   "cell_type": "code",
   "execution_count": 10,
   "id": "1a69e158",
   "metadata": {},
   "outputs": [
    {
     "name": "stdout",
     "output_type": "stream",
     "text": [
      "[3, ['a', 'b', 'c'], 4]\n"
     ]
    }
   ],
   "source": [
    "a = [1, 2, 3, ['a','b', 'c'], 4, 5]\n",
    "print(a[2:5])"
   ]
  },
  {
   "cell_type": "markdown",
   "id": "34318ed3",
   "metadata": {},
   "source": [
    "## 리스트 연산하기\n",
    "\n",
    "' + ' 기호를 사용해서 더할 수도 있고 ' * ' 기호를 사용해서 반복할 수 있다"
   ]
  },
  {
   "cell_type": "markdown",
   "id": "05223539",
   "metadata": {},
   "source": [
    "### 리스트 더하기\n",
    "\n",
    "리스트 사이에서 ' + ' 기호는 2개의 리스트를 합치는 기능을 한다"
   ]
  },
  {
   "cell_type": "code",
   "execution_count": 11,
   "id": "99563b58",
   "metadata": {},
   "outputs": [
    {
     "name": "stdout",
     "output_type": "stream",
     "text": [
      "[1, 2, 3, 4, 5, 6]\n"
     ]
    }
   ],
   "source": [
    "a = [1, 2, 3]\n",
    "b = [4, 5, 6]\n",
    "print(a+b)"
   ]
  },
  {
   "cell_type": "markdown",
   "id": "6a8c1da2",
   "metadata": {},
   "source": [
    "### 리스트 반복하기"
   ]
  },
  {
   "cell_type": "code",
   "execution_count": 12,
   "id": "7ed20e55",
   "metadata": {},
   "outputs": [
    {
     "name": "stdout",
     "output_type": "stream",
     "text": [
      "[1, 2, 3, 1, 2, 3, 1, 2, 3]\n"
     ]
    }
   ],
   "source": [
    "a = [1, 2, 3]\n",
    "print(a*3)"
   ]
  },
  {
   "cell_type": "markdown",
   "id": "1a9ff7c0",
   "metadata": {},
   "source": [
    "#### 리스트 길이 구하기\n",
    "\n",
    "리스트 길이를 구하기 위해서는 len 함수를 사용해야 한다"
   ]
  },
  {
   "cell_type": "code",
   "execution_count": 13,
   "id": "dce196a6",
   "metadata": {},
   "outputs": [
    {
     "name": "stdout",
     "output_type": "stream",
     "text": [
      "3\n"
     ]
    }
   ],
   "source": [
    "a = [1, 2, 3]\n",
    "print(len(a))"
   ]
  },
  {
   "cell_type": "markdown",
   "id": "7c5ef8b8",
   "metadata": {},
   "source": [
    "## 리스트에서 값 수정하기"
   ]
  },
  {
   "cell_type": "code",
   "execution_count": 15,
   "id": "65ca11c9",
   "metadata": {},
   "outputs": [
    {
     "name": "stdout",
     "output_type": "stream",
     "text": [
      "[1, 2, 4]\n"
     ]
    }
   ],
   "source": [
    "a = [1, 2, 3]\n",
    "a[2] = 4\n",
    "print(a)"
   ]
  },
  {
   "cell_type": "markdown",
   "id": "9cce1f7e",
   "metadata": {},
   "source": [
    "## del 함수 사용해 리스트 요소 삭제하기\n",
    "\n",
    "del a[x]는 x번째 요솟값을 삭제한다 "
   ]
  },
  {
   "cell_type": "code",
   "execution_count": 16,
   "id": "c2b00add",
   "metadata": {},
   "outputs": [
    {
     "name": "stdout",
     "output_type": "stream",
     "text": [
      "[1, 3]\n"
     ]
    }
   ],
   "source": [
    "a = [1, 2, 3]\n",
    "del a[1]\n",
    "print(a)"
   ]
  },
  {
   "cell_type": "markdown",
   "id": "48f5f368",
   "metadata": {},
   "source": [
    "## 리스트 관련 함수들"
   ]
  },
  {
   "cell_type": "markdown",
   "id": "5cf8eb95",
   "metadata": {},
   "source": [
    "### 리스트에 요소 추가(append)\n",
    "\n",
    "append = 덧붙이다, 첨부하다\n",
    "\n",
    "append(x)는 리스트의 맨 마지막에 x를 추가하는 함수이다"
   ]
  },
  {
   "cell_type": "code",
   "execution_count": 17,
   "id": "60b5714b",
   "metadata": {},
   "outputs": [
    {
     "name": "stdout",
     "output_type": "stream",
     "text": [
      "[1, 2, 3, 4]\n"
     ]
    }
   ],
   "source": [
    "a = [1, 2, 3]\n",
    "a.append(4)\n",
    "print(a)"
   ]
  },
  {
   "cell_type": "markdown",
   "id": "495f058a",
   "metadata": {},
   "source": [
    "### 리스트 정렬(sort)\n",
    "\n",
    "sort 함수는 리스트의 요소를 순서대로 정렬해 준다"
   ]
  },
  {
   "cell_type": "code",
   "execution_count": 18,
   "id": "26c86eb8",
   "metadata": {},
   "outputs": [
    {
     "name": "stdout",
     "output_type": "stream",
     "text": [
      "[1, 2, 3, 4, 5]\n"
     ]
    }
   ],
   "source": [
    "a = [1, 2, 5, 4, 3]\n",
    "a.sort()\n",
    "print(a)"
   ]
  },
  {
   "cell_type": "markdown",
   "id": "436c85fe",
   "metadata": {},
   "source": [
    "### 리스트 뒤집기(reverse)\n",
    "\n",
    "reverse 함수는 리스트를 역순으로 뒤집어 준다\n",
    "\n",
    "-> 리스트 요소들을 순서대로 정렬한 다음 다시 역순으로 정렬하는 것이 아니라 현재의 리스트를 그대로 거꾸러 뒤집는다"
   ]
  },
  {
   "cell_type": "code",
   "execution_count": 19,
   "id": "768044a8",
   "metadata": {},
   "outputs": [
    {
     "name": "stdout",
     "output_type": "stream",
     "text": [
      "['b', 'c', 'a']\n"
     ]
    }
   ],
   "source": [
    "a = ['a', 'c', 'b']\n",
    "a.reverse()\n",
    "print(a)"
   ]
  },
  {
   "cell_type": "markdown",
   "id": "8689aabd",
   "metadata": {},
   "source": [
    "### 인덱스 반환(index)\n",
    "\n",
    "index(x) 함수는 리스트에 x 값이 있으면 x의 인덱스 값을 리턴한다 "
   ]
  },
  {
   "cell_type": "code",
   "execution_count": 21,
   "id": "6244a184",
   "metadata": {},
   "outputs": [
    {
     "name": "stdout",
     "output_type": "stream",
     "text": [
      "2\n"
     ]
    }
   ],
   "source": [
    "a = [1, 2, 3]\n",
    "print(a.index(3))"
   ]
  },
  {
   "cell_type": "markdown",
   "id": "8da04cd4",
   "metadata": {},
   "source": [
    "### 리스트에 요소 삽입(insert)\n",
    "\n",
    "insert(a, b)는 리스트의 a번째 위치에 b를 삽입하는 함수이다"
   ]
  },
  {
   "cell_type": "code",
   "execution_count": 22,
   "id": "c39d5a70",
   "metadata": {},
   "outputs": [
    {
     "name": "stdout",
     "output_type": "stream",
     "text": [
      "[4, 1, 2, 3]\n"
     ]
    }
   ],
   "source": [
    "a = [1, 2, 3]\n",
    "a.insert(0,4)\n",
    "print(a)"
   ]
  },
  {
   "cell_type": "markdown",
   "id": "e7bcddde",
   "metadata": {},
   "source": [
    "### 리스트 요소 제거(remove)\n",
    "\n",
    "remove(x)는 리스트에서 첫 번째로 나오는 x를 삭제하는 함수이다"
   ]
  },
  {
   "cell_type": "code",
   "execution_count": 23,
   "id": "ffa8c7db",
   "metadata": {},
   "outputs": [
    {
     "name": "stdout",
     "output_type": "stream",
     "text": [
      "[1, 2, 1, 2, 3]\n"
     ]
    }
   ],
   "source": [
    "a = [1, 2, 3, 1, 2, 3]\n",
    "a.remove(3)\n",
    "print(a)"
   ]
  },
  {
   "cell_type": "markdown",
   "id": "16f6daf1",
   "metadata": {},
   "source": [
    "### 리스트 요소 끄집어내기(pop)\n",
    "\n",
    "pop()은 리스트의 맨 마지막 요소를 리턴하고 그 요소는 삭제한다"
   ]
  },
  {
   "cell_type": "code",
   "execution_count": 26,
   "id": "e0c21431",
   "metadata": {},
   "outputs": [
    {
     "name": "stdout",
     "output_type": "stream",
     "text": [
      "3\n",
      "[1, 2]\n"
     ]
    }
   ],
   "source": [
    "a = [1, 2, 3]\n",
    "print(a.pop())\n",
    "print(a)"
   ]
  },
  {
   "cell_type": "markdown",
   "id": "d89ea27e",
   "metadata": {},
   "source": [
    "### 리스트에 포함된 요소 x의 개수 세기(count)\n",
    "\n",
    "count(x)는 리스트 안에 x가 몇 개 있는지 조사하여 그 개수를 리턴하는 함수이다"
   ]
  },
  {
   "cell_type": "code",
   "execution_count": 27,
   "id": "1c02f06b",
   "metadata": {},
   "outputs": [
    {
     "name": "stdout",
     "output_type": "stream",
     "text": [
      "2\n"
     ]
    }
   ],
   "source": [
    "a = [1,2,3,1]\n",
    "print(a.count(1))"
   ]
  },
  {
   "cell_type": "markdown",
   "id": "29eb6d92",
   "metadata": {},
   "source": [
    "### 리스트 확장(extend)\n",
    "\n",
    "extend(x)에서 x에는 리스트만 올 수 있으며 원래의 a 리스트에 x 리스트를 더하게 된다"
   ]
  },
  {
   "cell_type": "code",
   "execution_count": 28,
   "id": "bf1c4f2c",
   "metadata": {},
   "outputs": [
    {
     "name": "stdout",
     "output_type": "stream",
     "text": [
      "[1, 2, 3, 4, 5]\n"
     ]
    }
   ],
   "source": [
    "a = [1, 2, 3]\n",
    "a.extend([4,5])\n",
    "print(a)"
   ]
  }
 ],
 "metadata": {
  "kernelspec": {
   "display_name": "Python 3 (ipykernel)",
   "language": "python",
   "name": "python3"
  },
  "language_info": {
   "codemirror_mode": {
    "name": "ipython",
    "version": 3
   },
   "file_extension": ".py",
   "mimetype": "text/x-python",
   "name": "python",
   "nbconvert_exporter": "python",
   "pygments_lexer": "ipython3",
   "version": "3.10.9"
  }
 },
 "nbformat": 4,
 "nbformat_minor": 5
}
