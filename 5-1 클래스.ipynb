{
 "cells": [
  {
   "cell_type": "markdown",
   "id": "21536b8d",
   "metadata": {},
   "source": [
    "# 클래스\n",
    "\n",
    "한 프로그램에서 2개 이상의 함수가 사용해야 하는 상황에서 클래스를 사용하여 간단하게 해결할 수 있다"
   ]
  },
  {
   "cell_type": "markdown",
   "id": "b8c8f5c6",
   "metadata": {},
   "source": [
    "## 클래스와 객체\n",
    "\n",
    "클래스(class): 똑같은 무엇인가를 계속해서 만들어 낼 수 있는 설계 도면\n",
    "   \n",
    "-> 1개의 클래스는 무수히 많은 객체를 만들어 낼 수 있다\n",
    "객체(object): 클래스로 만든 피조물\n",
    "    \n",
    "-> 객체마다 고유한 성격을 가진다"
   ]
  },
  {
   "cell_type": "code",
   "execution_count": 5,
   "id": "71c1acf5",
   "metadata": {},
   "outputs": [],
   "source": [
    "class Cookie:\n",
    "    pass"
   ]
  },
  {
   "cell_type": "code",
   "execution_count": 7,
   "id": "ef717982",
   "metadata": {},
   "outputs": [],
   "source": [
    "a = Cookie()\n",
    "b = Cookie()"
   ]
  },
  {
   "cell_type": "markdown",
   "id": "777daecb",
   "metadata": {},
   "source": [
    "### 객체와 인스턴스의 차이\n",
    "\n",
    "인스턴스라는 말은 특정 객체가 어떤 클래스의 객체인지를 관계 위주로 설명할 때 사용"
   ]
  },
  {
   "cell_type": "markdown",
   "id": "e106e162",
   "metadata": {},
   "source": [
    "## 사칙연산 클래스 만들기\n",
    "\n",
    "1. a = FourCal()를 입력해서 a라는 객체를 만든다\n",
    "\n",
    "2. a.setdata(4,2)처럼 입력해서 숫자 4와 2를 a에 지정해준다\n",
    "\n",
    "3. a.add()를 수행하면 두 수를 합한 결과(4+2)를 리턴한다\n",
    "\n",
    "4. a.mul()를 수행하면 두수를 곱한 결과(4*2)를 리턴한다\n",
    "\n",
    "4. a.sub()를 수행하면 두수를 곱한 결과(4-2)를 리턴한다\n",
    "\n",
    "4. a.div()를 수행하면 두수를 곱한 결과(4/2)를 리턴한다"
   ]
  },
  {
   "cell_type": "markdown",
   "id": "0a3b2461",
   "metadata": {},
   "source": [
    "## 클래스 구조 만들기\n",
    "\n",
    "type함수는 파이썬이 자체로 가지고 있는 내장 함수로 객체의 타입을 출력한다"
   ]
  },
  {
   "cell_type": "markdown",
   "id": "0e78301b",
   "metadata": {},
   "source": [
    "### 객체에 숫자 지정할 수 있게 만들기\n",
    "\n",
    "클래스 안에 구현된 함수는 다른 말로 메서드(method)라고 부른다\n"
   ]
  },
  {
   "cell_type": "markdown",
   "id": "587ded6c",
   "metadata": {},
   "source": [
    "## 생성자(Constructor)\n",
    "\n",
    "객체가 생성될 때 자동으로 호출되는 메서드\n",
    "\n",
    "객체에 초깃값을 설정해야 할 필요가 있을 때는 메서드를 호출하여 설정하기보다는 생성자를 구현하는 것이 안전한 방법이다\n",
    "\n",
    "매개변수 / 값\n",
    "\n",
    "self 생성되는 객체\n",
    "\n",
    "first 4\n",
    "\n",
    "second 2"
   ]
  },
  {
   "cell_type": "markdown",
   "id": "5156c964",
   "metadata": {},
   "source": [
    "## 클래스의 상속\n",
    "\n",
    "어떤 클래스를 만들 때 다른 클래스의 기능을 물려받을 수 있게 만드는 것\n",
    "\n",
    "클래스를 상속하기 위해서는 클래스 이름 뒤 괄호 안에 상속할 클래스 이름을 널어주면 된다\n",
    "\n",
    "class 클래스 이름(상속할 클래스 이름)\n",
    "\n",
    "기존 클래스가 라이브러리 형태로 제공되거나 수정이 허용되지 않는 상황이라면 상속을 사용해야 한다"
   ]
  },
  {
   "cell_type": "markdown",
   "id": "c7605602",
   "metadata": {},
   "source": [
    "## 메서드 오버라이딩\n",
    "\n",
    "부모 클래스(상속한 클래스)에 있는 메서드를 동일한 이름으로 다시 만드는 것\n",
    "\n",
    "메서드를 오버라딩하면 부모클래스의 메서드 대신 오버라이딩한 메서드가 호출된다"
   ]
  },
  {
   "cell_type": "code",
   "execution_count": null,
   "id": "9037b105",
   "metadata": {},
   "outputs": [],
   "source": [
    "## 클래스 변수\n",
    "\n"
   ]
  }
 ],
 "metadata": {
  "kernelspec": {
   "display_name": "Python 3 (ipykernel)",
   "language": "python",
   "name": "python3"
  },
  "language_info": {
   "codemirror_mode": {
    "name": "ipython",
    "version": 3
   },
   "file_extension": ".py",
   "mimetype": "text/x-python",
   "name": "python",
   "nbconvert_exporter": "python",
   "pygments_lexer": "ipython3",
   "version": "3.10.9"
  }
 },
 "nbformat": 4,
 "nbformat_minor": 5
}
