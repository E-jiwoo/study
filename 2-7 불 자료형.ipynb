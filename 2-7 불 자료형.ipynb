{
 "cells": [
  {
   "cell_type": "markdown",
   "id": "a91344ff",
   "metadata": {},
   "source": [
    "# 불 자료형\n",
    "\n",
    "참(true)과 거짓(False)을 나타내는 자료형\n",
    "\n",
    "불 자료형은 \n",
    "\n",
    "True(참) - False(거짓)\n",
    "\n",
    "2가지 값만 가질 수 있다\n",
    "\n",
    "\n",
    "True나 False는 파이썬의 예약어로 true, false와 같이 사용하지 말고 첫문자는 항상 대문자로 사용해야 한다\n"
   ]
  },
  {
   "cell_type": "code",
   "execution_count": 2,
   "id": "03b60cfc",
   "metadata": {},
   "outputs": [],
   "source": [
    "a = True\n",
    "b = False"
   ]
  },
  {
   "cell_type": "markdown",
   "id": "c619c334",
   "metadata": {},
   "source": [
    "type 함수를 변수 a와 b에 사용하면 두 변수의 자료형이 bool로 지정된 것을 확인할 수 있다\n",
    "\n",
    "type(x)는 x의 자료형을 확인하는 파이썬의 내장 함수이다"
   ]
  },
  {
   "cell_type": "code",
   "execution_count": 9,
   "id": "bef1e917",
   "metadata": {},
   "outputs": [
    {
     "name": "stdout",
     "output_type": "stream",
     "text": [
      "<class 'bool'>\n"
     ]
    }
   ],
   "source": [
    "print(type(a))"
   ]
  },
  {
   "cell_type": "markdown",
   "id": "09db89a7",
   "metadata": {},
   "source": [
    "불 자료형은 조건문의 리턴 값으로도 사용된다\n",
    "\n",
    "결과로 True나 False에 해당되는 불 자료형을 리턴한다"
   ]
  },
  {
   "cell_type": "code",
   "execution_count": 7,
   "id": "e2ef8ed1",
   "metadata": {},
   "outputs": [
    {
     "name": "stdout",
     "output_type": "stream",
     "text": [
      "True\n"
     ]
    }
   ],
   "source": [
    "print(1 == 1)"
   ]
  },
  {
   "cell_type": "code",
   "execution_count": 8,
   "id": "676c8796",
   "metadata": {},
   "outputs": [
    {
     "name": "stdout",
     "output_type": "stream",
     "text": [
      "False\n"
     ]
    }
   ],
   "source": [
    "print( 2 > 3 )"
   ]
  },
  {
   "cell_type": "markdown",
   "id": "40beaded",
   "metadata": {},
   "source": [
    "## 자료형의 참과 거짓\n",
    "\n",
    "\n",
    "[ 값 / 참 or 거짓 ]\n",
    "\n",
    "\"python\" - 참\n",
    "\n",
    "[1, 2, 3] - 참\n",
    "\n",
    "(1, 2, 3) - 참\n",
    "\n",
    "{'a':1} - 참\n",
    "\n",
    "1 - 참\n",
    "\n",
    "\" \" - 거짓\n",
    "\n",
    "[ ] - 거짓\n",
    "\n",
    "( ) - 거짓\n",
    "\n",
    "{ } - 거짓\n",
    "\n",
    "0 - 거짓\n",
    "\n",
    "None - 거짓\n",
    "\n",
    "=> 숫자에서 그 값이 0일 때 거짓\n",
    "\n",
    "문자열, 리스트, 튜플, 딕셔너리 등의 값이 비어 있으면 거짓\n",
    "\n",
    "비어있지 않으면 참"
   ]
  },
  {
   "cell_type": "code",
   "execution_count": 11,
   "id": "7a2291c8",
   "metadata": {},
   "outputs": [
    {
     "name": "stdout",
     "output_type": "stream",
     "text": [
      "1\n",
      "2\n",
      "3\n",
      "4\n"
     ]
    }
   ],
   "source": [
    "a = {1, 2, 3, 4}\n",
    "while a:\n",
    "    print(a.pop())"
   ]
  },
  {
   "cell_type": "code",
   "execution_count": 12,
   "id": "0ce63049",
   "metadata": {},
   "outputs": [
    {
     "name": "stdout",
     "output_type": "stream",
     "text": [
      "거짓\n"
     ]
    }
   ],
   "source": [
    "if[]:\n",
    "    print(\"참\")\n",
    "    \n",
    "else:\n",
    "    print(\"거짓\")"
   ]
  },
  {
   "cell_type": "markdown",
   "id": "574e5a12",
   "metadata": {},
   "source": [
    "## 불 연산\n",
    "\n",
    "bool 함수를 사용하면 자료형의 참과 거짓을 보다 정확하게 식별할 수 있다"
   ]
  },
  {
   "cell_type": "code",
   "execution_count": 13,
   "id": "07b14ab3",
   "metadata": {},
   "outputs": [
    {
     "name": "stdout",
     "output_type": "stream",
     "text": [
      "True\n"
     ]
    }
   ],
   "source": [
    "print(bool('python'))"
   ]
  },
  {
   "cell_type": "code",
   "execution_count": 14,
   "id": "1783c3c5",
   "metadata": {},
   "outputs": [
    {
     "name": "stdout",
     "output_type": "stream",
     "text": [
      "False\n"
     ]
    }
   ],
   "source": [
    "print(bool(''))"
   ]
  }
 ],
 "metadata": {
  "kernelspec": {
   "display_name": "Python 3 (ipykernel)",
   "language": "python",
   "name": "python3"
  },
  "language_info": {
   "codemirror_mode": {
    "name": "ipython",
    "version": 3
   },
   "file_extension": ".py",
   "mimetype": "text/x-python",
   "name": "python",
   "nbconvert_exporter": "python",
   "pygments_lexer": "ipython3",
   "version": "3.10.9"
  }
 },
 "nbformat": 4,
 "nbformat_minor": 5
}
