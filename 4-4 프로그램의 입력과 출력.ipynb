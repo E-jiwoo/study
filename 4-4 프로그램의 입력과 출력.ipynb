{
 "cells": [
  {
   "cell_type": "markdown",
   "id": "ad617df4",
   "metadata": {},
   "source": [
    "# 프로그램의 입력과 출력\n",
    "\n",
    "C:\\> type a.txt\n",
    "    \n",
    "위 type 명령어는 바로 뒤에 적힌 파일 이름을 인수로 받아 해당 파일의 내용을 출력해 주는 명령어이다\n",
    "\n",
    "명령어[인수1 인수2 ...]\n",
    "\n",
    "파이썬에서는 sys 모듈을 사용하여 프로그램에 인수를 전달할 수 있다\n",
    "\n",
    "(sys모듈을 사용하려면 import sys처럼 import명령어를 사용해야 한다)\n",
    "\n",
    "#sys1.py\n",
    "\n",
    "import sys\n",
    "\n",
    "args = sys.argv[1:]\n",
    "\n",
    "for i in args:\n",
    "    \n",
    "    print(i)\n",
    "    \n",
    "문자열 관련 함수인 upper()을 사용하면 프로그램 실행시 전달된 인수를 모두 대문자로 바꾸어 준다\n",
    "\n",
    "(sys2.py 파일이 C:/doit 디렉터리 안에 있어야만 한다)\n",
    "\n",
    "C:/doit>python sys2.py life is too short, you need python\n",
    "    \n",
    "출력\n",
    "\n",
    "LIFE IS TOO SHORT, YOU NEED PYTHON"
   ]
  }
 ],
 "metadata": {
  "kernelspec": {
   "display_name": "Python 3 (ipykernel)",
   "language": "python",
   "name": "python3"
  },
  "language_info": {
   "codemirror_mode": {
    "name": "ipython",
    "version": 3
   },
   "file_extension": ".py",
   "mimetype": "text/x-python",
   "name": "python",
   "nbconvert_exporter": "python",
   "pygments_lexer": "ipython3",
   "version": "3.10.9"
  }
 },
 "nbformat": 4,
 "nbformat_minor": 5
}
