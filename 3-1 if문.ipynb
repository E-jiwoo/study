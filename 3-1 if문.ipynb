{
 "cells": [
  {
   "cell_type": "markdown",
   "id": "1c1f4036",
   "metadata": {},
   "source": [
    "# if문의 기본 구조\n",
    "\n",
    "프로그래밍에서 조건을 판단하여 해당 조건에 맞는 상황을 수행하는 데 사용한다\n",
    "    \n",
    "if문 바로 다음 문장(if 블록)들을 수행\n",
    "\n",
    "조건문이 거짓이면 else문 다음 문장(else 블록)들을 수행\n",
    "\n",
    "-> else문은 if문 없이 독립적으로 사용할 수 없다\n",
    "\n",
    "if문에 속하는 모든 문장에 들여쓰기(indentation)를 해주어야 한다\n",
    "\n",
    "if 조건문 뒤에는 반드시 콜론(:)이 붙는다"
   ]
  },
  {
   "cell_type": "markdown",
   "id": "8a75a084",
   "metadata": {},
   "source": [
    "if 조건문:\n",
    "\n",
    "    수행할 문장1\n",
    "    수행할 문장2\n",
    "    \n",
    "else:\n",
    "\n",
    "    수행할 문장A\n",
    "    수행할 문장B"
   ]
  },
  {
   "cell_type": "markdown",
   "id": "313a2e49",
   "metadata": {},
   "source": [
    "## 비교연산자\n",
    "\n",
    "'<', '>', '==', '!=', '>=', '<='"
   ]
  },
  {
   "cell_type": "code",
   "execution_count": 2,
   "id": "3d9dd815",
   "metadata": {},
   "outputs": [
    {
     "name": "stdout",
     "output_type": "stream",
     "text": [
      "True\n"
     ]
    }
   ],
   "source": [
    "x=3\n",
    "y=2\n",
    "print(x>y)"
   ]
  },
  {
   "cell_type": "markdown",
   "id": "f54d044d",
   "metadata": {},
   "source": [
    "## and, or, not\n",
    "\n",
    "x or y : x와 y 둘중에 하나만 참이어도 참이다\n",
    "\n",
    "x and y : x와 y 모두 참이어야 참이다\n",
    "\n",
    "not x : x가 거짓이면 참이다"
   ]
  },
  {
   "cell_type": "code",
   "execution_count": 4,
   "id": "386ad1ab",
   "metadata": {},
   "outputs": [
    {
     "name": "stdout",
     "output_type": "stream",
     "text": [
      "참입니다\n"
     ]
    }
   ],
   "source": [
    "a = 2000\n",
    "b = True\n",
    "if a >= 3000 or b:\n",
    "    print(\"참입니다\")\n",
    "else:\n",
    "    print(\"거짓입니다\")"
   ]
  },
  {
   "cell_type": "markdown",
   "id": "b8563494",
   "metadata": {},
   "source": [
    "## in, not in\n",
    "\n",
    "x in 리스트: x not in 리스트\n",
    "\n",
    "x in 튜플: x not in 튜플\n",
    "\n",
    "x in 문자열: x not in 문자열"
   ]
  },
  {
   "cell_type": "code",
   "execution_count": 6,
   "id": "9bcb41ba",
   "metadata": {},
   "outputs": [
    {
     "name": "stdout",
     "output_type": "stream",
     "text": [
      "True\n"
     ]
    }
   ],
   "source": [
    "print(1 in [1, 2, 3])"
   ]
  },
  {
   "cell_type": "markdown",
   "id": "01452e58",
   "metadata": {},
   "source": [
    "### pass\n",
    "\n",
    "조건문의 참, 거짓에 따라 실행할 행동을 정의할 때, 아무런 일도 하지 않도록 설정하고 싶을 때 사용"
   ]
  },
  {
   "cell_type": "code",
   "execution_count": 9,
   "id": "1e6a2af6",
   "metadata": {},
   "outputs": [],
   "source": [
    "pocket = ['paper', 'money', 'cellphone']\n",
    "if 'money' in pocket:\n",
    "    pass\n",
    "else:\n",
    "    print(\"not money\")"
   ]
  },
  {
   "cell_type": "markdown",
   "id": "9fd864b2",
   "metadata": {},
   "source": [
    "## elif\n",
    "\n",
    "elif는 이전 조건문이 거짓일 때 수행된다\n",
    "\n",
    "elif는 개수에 제한 없이 사용할 수 있다"
   ]
  },
  {
   "cell_type": "markdown",
   "id": "aa591409",
   "metadata": {
    "collapsed": true
   },
   "source": [
    "if 조건문:\n",
    "    \n",
    "    수행할 문장1\n",
    "    수행할 문장2\n",
    "\n",
    "elif 조건문:\n",
    "    \n",
    "    수행할 문장1\n",
    "    수행할 문장2\n",
    "    \n",
    "else:\n",
    "    \n",
    "    수행할 문장A\n",
    "    수행할 문장B"
   ]
  },
  {
   "cell_type": "markdown",
   "id": "eea52079",
   "metadata": {},
   "source": [
    "## 조건부 표현식\n",
    "\n",
    "변수 = 조건문이 참인 경우의 값 if 조건문 else 조건문이 거짓인 경우의 값"
   ]
  }
 ],
 "metadata": {
  "kernelspec": {
   "display_name": "Python 3 (ipykernel)",
   "language": "python",
   "name": "python3"
  },
  "language_info": {
   "codemirror_mode": {
    "name": "ipython",
    "version": 3
   },
   "file_extension": ".py",
   "mimetype": "text/x-python",
   "name": "python",
   "nbconvert_exporter": "python",
   "pygments_lexer": "ipython3",
   "version": "3.10.9"
  }
 },
 "nbformat": 4,
 "nbformat_minor": 5
}
