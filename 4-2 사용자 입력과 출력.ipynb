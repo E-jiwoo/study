{
 "cells": [
  {
   "cell_type": "markdown",
   "id": "fa2859fa",
   "metadata": {},
   "source": [
    "# input의 사용\n",
    "\n",
    "input은 사용자가 키보드로 입력한 모든 것을 문자열로 저장한다"
   ]
  },
  {
   "cell_type": "code",
   "execution_count": 2,
   "id": "99e8b615",
   "metadata": {},
   "outputs": [
    {
     "name": "stdout",
     "output_type": "stream",
     "text": [
      "python\n",
      "python\n"
     ]
    }
   ],
   "source": [
    "a = input()\n",
    "print(a)"
   ]
  },
  {
   "cell_type": "markdown",
   "id": "639f100a",
   "metadata": {},
   "source": [
    "## 프롬프트를 띄워서 사용자 입력 받기\n",
    "\n",
    "안내 문구 또는 질문이 나오도록 하고 싶을 때에는 input()의 괄호 안에 안내문구를 입력하여 프롬프트를 띄워주면 된다\n",
    "\n",
    "input(\"안내문구\")\n",
    "\n",
    "input은 입력되는 모든 것을 문자열로 취급하기 때문에 number는 숫자가 아닌 문자열임에 주의하자"
   ]
  },
  {
   "cell_type": "code",
   "execution_count": 3,
   "id": "f1f5e88f",
   "metadata": {},
   "outputs": [
    {
     "name": "stdout",
     "output_type": "stream",
     "text": [
      "숫자를 입력하세요: 1\n",
      "1\n"
     ]
    }
   ],
   "source": [
    "number = input(\"숫자를 입력하세요: \")\n",
    "print(number)"
   ]
  },
  {
   "cell_type": "markdown",
   "id": "336a24a5",
   "metadata": {},
   "source": [
    "## print 자세히 알기"
   ]
  },
  {
   "cell_type": "markdown",
   "id": "a71589ae",
   "metadata": {},
   "source": [
    "### 큰따옴표(\"\")로 둘러싸인 문자열은 + 연산과 동일하다"
   ]
  },
  {
   "cell_type": "code",
   "execution_count": 8,
   "id": "3499cb2b",
   "metadata": {},
   "outputs": [
    {
     "name": "stdout",
     "output_type": "stream",
     "text": [
      "pythoniseasy\n"
     ]
    }
   ],
   "source": [
    "print(\"python\" \"is\" \"easy\")"
   ]
  },
  {
   "cell_type": "markdown",
   "id": "032472ad",
   "metadata": {},
   "source": [
    "### 문자열 띄어쓰기는 콤마로 한다"
   ]
  },
  {
   "cell_type": "code",
   "execution_count": 7,
   "id": "207fa361",
   "metadata": {},
   "outputs": [
    {
     "name": "stdout",
     "output_type": "stream",
     "text": [
      "python is easy\n"
     ]
    }
   ],
   "source": [
    "print(\"python\",\"is\",\"easy\")"
   ]
  },
  {
   "cell_type": "markdown",
   "id": "39947f14",
   "metadata": {},
   "source": [
    "### 한 줄에 결괏값 출력하기\n",
    "\n",
    "한 줄에 결괏값을 계속 이어서 출력하려면 매개변수 end를 사용해 끝 문자를 지정해야한다\n",
    "\n",
    "end 매개변수의 초깃값은 줄바꿈(\\n)문자이다"
   ]
  },
  {
   "cell_type": "code",
   "execution_count": 9,
   "id": "eb348426",
   "metadata": {},
   "outputs": [
    {
     "name": "stdout",
     "output_type": "stream",
     "text": [
      "0123456789"
     ]
    }
   ],
   "source": [
    "for i in range(10):\n",
    "    print(i, end='')"
   ]
  }
 ],
 "metadata": {
  "kernelspec": {
   "display_name": "Python 3 (ipykernel)",
   "language": "python",
   "name": "python3"
  },
  "language_info": {
   "codemirror_mode": {
    "name": "ipython",
    "version": 3
   },
   "file_extension": ".py",
   "mimetype": "text/x-python",
   "name": "python",
   "nbconvert_exporter": "python",
   "pygments_lexer": "ipython3",
   "version": "3.10.9"
  }
 },
 "nbformat": 4,
 "nbformat_minor": 5
}
