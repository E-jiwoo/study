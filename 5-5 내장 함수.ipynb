{
 "cells": [
  {
   "cell_type": "markdown",
   "id": "3b282c6a",
   "metadata": {},
   "source": [
    "# 내장 함수\n",
    "\n",
    "파이썬 내장 함수는 파이썬 모듈과 달리 import가 필요하지 않기 때문에 아무런 설정 없이 바로 사용할 수 있다"
   ]
  },
  {
   "cell_type": "markdown",
   "id": "6bc673ed",
   "metadata": {},
   "source": [
    "## abs\n",
    "\n",
    "abs(x)는 어떤 숫자를 입력받았을 때, 그 숫자의 절댓값을 리턴하는 함수이다"
   ]
  },
  {
   "cell_type": "code",
   "execution_count": 4,
   "id": "f102b0af",
   "metadata": {},
   "outputs": [
    {
     "name": "stdout",
     "output_type": "stream",
     "text": [
      "3\n",
      "3\n",
      "1.2\n"
     ]
    }
   ],
   "source": [
    "print(abs(3))\n",
    "print(abs(-3))\n",
    "print(abs(-1.2))"
   ]
  },
  {
   "cell_type": "markdown",
   "id": "ce41920b",
   "metadata": {},
   "source": [
    "## all\n",
    "\n",
    "all(x)는 반복 가능한(iterable) 데이터 x를 입력 값으로 받으며 이 x의 요소가 모두 참이면 True, 거짓이 하나라도 있으면 False를 리턴한다\n",
    "\n",
    "반복 가능한 데이터란 for문에서 사용 가능한 자료형을 의미한다\n",
    "\n",
    "(리스트, 튜플, 문자열, 딕셔너리, 집합등이 있음)"
   ]
  },
  {
   "cell_type": "code",
   "execution_count": 9,
   "id": "178d99ca",
   "metadata": {},
   "outputs": [
    {
     "name": "stdout",
     "output_type": "stream",
     "text": [
      "True\n",
      "False\n"
     ]
    }
   ],
   "source": [
    "print(all([1, 2, 3]))\n",
    "print(all([1, 2, 3, 0]))"
   ]
  },
  {
   "cell_type": "markdown",
   "id": "b993f352",
   "metadata": {},
   "source": [
    "## any\n",
    "\n",
    "any(x)는 반복 가능한 데이터 x를 입력으로 받아 x의 요소 중 하나라도 참이 있으면 True를 리턴하고, x가 모두 거짓일 때에만 False를 리턴한다\n",
    "\n",
    "all(x)의 반대이다\n",
    "\n",
    "만약 any의 입력 인수가 빈 값인 경우에는 False를 리턴한다"
   ]
  },
  {
   "cell_type": "code",
   "execution_count": 11,
   "id": "ae51731c",
   "metadata": {},
   "outputs": [
    {
     "name": "stdout",
     "output_type": "stream",
     "text": [
      "True\n",
      "False\n"
     ]
    }
   ],
   "source": [
    "print(any([1, 2, 3, 0]))\n",
    "print(any([]))"
   ]
  },
  {
   "cell_type": "markdown",
   "id": "803030e2",
   "metadata": {},
   "source": [
    "## chr\n",
    "\n",
    "chr(i)는 유니코드 숫자값을 입력받아 그 코드에 해당하는 문자를 리턴하는 함수이다"
   ]
  },
  {
   "cell_type": "code",
   "execution_count": 12,
   "id": "d5d4841f",
   "metadata": {},
   "outputs": [
    {
     "name": "stdout",
     "output_type": "stream",
     "text": [
      "a\n",
      "가\n"
     ]
    }
   ],
   "source": [
    "print(chr(97))\n",
    "print(chr(44032))"
   ]
  },
  {
   "cell_type": "markdown",
   "id": "5418895f",
   "metadata": {},
   "source": [
    "## dir\n",
    "\n",
    "dir은 객체가 지닌 변수나 함수를 보여 주는 함수이다"
   ]
  },
  {
   "cell_type": "code",
   "execution_count": 14,
   "id": "eb8c0f4c",
   "metadata": {},
   "outputs": [
    {
     "name": "stdout",
     "output_type": "stream",
     "text": [
      "['__add__', '__class__', '__class_getitem__', '__contains__', '__delattr__', '__delitem__', '__dir__', '__doc__', '__eq__', '__format__', '__ge__', '__getattribute__', '__getitem__', '__gt__', '__hash__', '__iadd__', '__imul__', '__init__', '__init_subclass__', '__iter__', '__le__', '__len__', '__lt__', '__mul__', '__ne__', '__new__', '__reduce__', '__reduce_ex__', '__repr__', '__reversed__', '__rmul__', '__setattr__', '__setitem__', '__sizeof__', '__str__', '__subclasshook__', 'append', 'clear', 'copy', 'count', 'extend', 'index', 'insert', 'pop', 'remove', 'reverse', 'sort']\n",
      "['__class__', '__class_getitem__', '__contains__', '__delattr__', '__delitem__', '__dir__', '__doc__', '__eq__', '__format__', '__ge__', '__getattribute__', '__getitem__', '__gt__', '__hash__', '__init__', '__init_subclass__', '__ior__', '__iter__', '__le__', '__len__', '__lt__', '__ne__', '__new__', '__or__', '__reduce__', '__reduce_ex__', '__repr__', '__reversed__', '__ror__', '__setattr__', '__setitem__', '__sizeof__', '__str__', '__subclasshook__', 'clear', 'copy', 'fromkeys', 'get', 'items', 'keys', 'pop', 'popitem', 'setdefault', 'update', 'values']\n"
     ]
    }
   ],
   "source": [
    "print(dir([1, 2, 3]))\n",
    "print(dir({'1':'a'}))"
   ]
  },
  {
   "cell_type": "markdown",
   "id": "9cb2fc1f",
   "metadata": {},
   "source": [
    "## divmod\n",
    "\n",
    "divmod(a,b)는 2개의 숫자를 입력으로 받고 a를 b로 나눈 몫과 나머지를 튜플로 리턴하는 함수이다"
   ]
  },
  {
   "cell_type": "code",
   "execution_count": 15,
   "id": "af4d73bb",
   "metadata": {},
   "outputs": [
    {
     "name": "stdout",
     "output_type": "stream",
     "text": [
      "(2, 1)\n"
     ]
    }
   ],
   "source": [
    "print(divmod(7,3))"
   ]
  },
  {
   "cell_type": "code",
   "execution_count": 16,
   "id": "1cd51660",
   "metadata": {},
   "outputs": [
    {
     "name": "stdout",
     "output_type": "stream",
     "text": [
      "2\n",
      "1\n"
     ]
    }
   ],
   "source": [
    "print(7//3)\n",
    "print(7%3)"
   ]
  },
  {
   "cell_type": "markdown",
   "id": "12a7af73",
   "metadata": {},
   "source": [
    "## enumerate\n",
    "\n",
    "enumerate는 \"열거하다\"라는 뜻을 지니고 있으며 순서가 있는 데이터(리스트. 튜플, 문자열)를 입력으로 받아 인덱스 값을 포함하는 enumerate 객체를 리턴한다\n",
    "\n",
    "보통 enumerate 함수는 for문과 함께 사용한다\n",
    "\n",
    "for문처럼 반복되는 구간에서 객체가 현재 어느 위치에 있는지 알려 주는 인덱스 값이 필요할 때 enumerate 함수를 사용하면 매우 유용하다"
   ]
  },
  {
   "cell_type": "code",
   "execution_count": 17,
   "id": "681c095d",
   "metadata": {},
   "outputs": [
    {
     "name": "stdout",
     "output_type": "stream",
     "text": [
      "0 body\n",
      "1 foo\n",
      "2 bar\n"
     ]
    }
   ],
   "source": [
    "for i, name in enumerate(['body', 'foo', 'bar']):\n",
    "    print(i, name)"
   ]
  },
  {
   "cell_type": "markdown",
   "id": "1993d3e8",
   "metadata": {},
   "source": [
    "## eval\n",
    "\n",
    "eval(expression)은 문자열로 구성된 표현식을 입력으로 받아 해당 문자열을 실행한 결괏값을 리턴하는 함수이다"
   ]
  },
  {
   "cell_type": "code",
   "execution_count": 18,
   "id": "23b3db36",
   "metadata": {},
   "outputs": [
    {
     "name": "stdout",
     "output_type": "stream",
     "text": [
      "3\n",
      "hia\n",
      "(1, 1)\n"
     ]
    }
   ],
   "source": [
    "print(eval('1+2'))\n",
    "print(eval(\"'hi'+'a'\"))\n",
    "print(eval('divmod(4,3)'))"
   ]
  },
  {
   "cell_type": "markdown",
   "id": "11bf372c",
   "metadata": {},
   "source": [
    "## filter\n",
    "\n",
    "filter란 무엇인가를 걸러낸다는 뜻으로 첫 번째 인수로 함수를, 두 번째 인수로 그 함수에 차례로 들어갈 반복 가능한 데이터를 받아서 반복 가능한 데이터의 요소 순서대로 함수를 호출했을 때 반환 값이 참인 것만 묶어서(걸러 내서) 리턴한다"
   ]
  },
  {
   "cell_type": "markdown",
   "id": "981151b9",
   "metadata": {},
   "source": [
    "//positive.py\n",
    "\n",
    "def positive(1):\n",
    "\n",
    "    result =[]\n",
    "    for i in 1:\n",
    "        if i > 0:\n",
    "            result.append(i)\n",
    "    return result\n",
    "\n",
    "print(positive([1,-3,2,0,-5,6])) \n",
    "\n",
    "//positive 함수는 리스트를 입력으로 받아 각각의 요소를 판별해서 양수 값만 리턴하는 함수이다\n",
    "\n",
    ">>>[1,2,6]"
   ]
  },
  {
   "cell_type": "markdown",
   "id": "fab717e9",
   "metadata": {},
   "source": [
    "//이 함수는 lambda를 사용하면 더욱 심플해진다\n",
    "\n",
    "list(filter(lambda x: x > 0, [1, -3, 2, 0, -5, 6]))\n",
    ">>>[1,2,6]"
   ]
  },
  {
   "cell_type": "markdown",
   "id": "5afc5aaf",
   "metadata": {},
   "source": [
    "## id\n",
    "\n",
    "id(object)는 객체를 입력받아 객체의 고유 주소 값(레퍼런스)을 리턴하는 함수이다"
   ]
  },
  {
   "cell_type": "code",
   "execution_count": 23,
   "id": "e081a7e2",
   "metadata": {},
   "outputs": [
    {
     "name": "stdout",
     "output_type": "stream",
     "text": [
      "3102290673968\n",
      "3102290673968\n"
     ]
    }
   ],
   "source": [
    "a=3\n",
    "print(id(3))\n",
    "print(id(a))"
   ]
  },
  {
   "cell_type": "markdown",
   "id": "fbdefbad",
   "metadata": {},
   "source": [
    "## input\n",
    "\n",
    "input([prompt])은 사용자 입력을 받는 함수이다\n",
    "\n",
    "입력 인수로 문자열을 전달하면 그 문자열은 프롬프트가 된다\n",
    "\n",
    "[ ]기호는 괄호 안의 내용을 생략할 수 있다는 관례 표기법임을 기억!!"
   ]
  },
  {
   "cell_type": "code",
   "execution_count": 26,
   "id": "a5dd85ac",
   "metadata": {},
   "outputs": [
    {
     "name": "stdout",
     "output_type": "stream",
     "text": [
      "hi\n"
     ]
    }
   ],
   "source": [
    "a = input()"
   ]
  },
  {
   "cell_type": "code",
   "execution_count": 27,
   "id": "977c7a4e",
   "metadata": {},
   "outputs": [
    {
     "name": "stdout",
     "output_type": "stream",
     "text": [
      "hi\n"
     ]
    }
   ],
   "source": [
    "print(a)"
   ]
  },
  {
   "cell_type": "markdown",
   "id": "909e82e1",
   "metadata": {},
   "source": [
    "## int\n",
    "\n",
    "int(x)는 문자열 형태의 숫자나 소수점이 있는 숫자를 정수로 리턴하는 함수이다\n",
    "\n",
    "만약 정수가 입력되면 그대로 리턴한다"
   ]
  },
  {
   "cell_type": "code",
   "execution_count": 1,
   "id": "7dd63d8d",
   "metadata": {},
   "outputs": [
    {
     "name": "stdout",
     "output_type": "stream",
     "text": [
      "3\n"
     ]
    }
   ],
   "source": [
    "print(int('3'))"
   ]
  },
  {
   "cell_type": "markdown",
   "id": "2c5debd8",
   "metadata": {},
   "source": [
    "//int(x, radix)는 radix 진수로 표현된 문자열 x를 10진수로 변환하여 리턴한다"
   ]
  },
  {
   "cell_type": "code",
   "execution_count": 3,
   "id": "07e4cd29",
   "metadata": {},
   "outputs": [
    {
     "name": "stdout",
     "output_type": "stream",
     "text": [
      "3\n"
     ]
    }
   ],
   "source": [
    "print(int('11', 2))"
   ]
  },
  {
   "cell_type": "markdown",
   "id": "b2c67d30",
   "metadata": {},
   "source": [
    "//16진수로 표현된 \"1A\"의 10진수 값은 다음과 같이 구할 수 있다"
   ]
  },
  {
   "cell_type": "code",
   "execution_count": 4,
   "id": "046bf03c",
   "metadata": {},
   "outputs": [
    {
     "name": "stdout",
     "output_type": "stream",
     "text": [
      "26\n"
     ]
    }
   ],
   "source": [
    "print(int('1A',16))"
   ]
  },
  {
   "cell_type": "markdown",
   "id": "9d4b5466",
   "metadata": {},
   "source": [
    "## isinstance\n",
    "\n",
    "isinstance(object, class) 함수는 첫 번째 인수로 객체, 두 번째 인수로 클래스를 받는다\n",
    "\n",
    "입력으로 받은 객체가 그 클래스의 인스턴스인지를 판단하여 참이면 True, 거짓이면 False를 리턴한다"
   ]
  },
  {
   "cell_type": "code",
   "execution_count": 6,
   "id": "cabd36f2",
   "metadata": {},
   "outputs": [
    {
     "name": "stdout",
     "output_type": "stream",
     "text": [
      "True\n"
     ]
    }
   ],
   "source": [
    "class Person: pass\n",
    "a = Person()\n",
    "print(isinstance(a, Person))"
   ]
  },
  {
   "cell_type": "markdown",
   "id": "d6ee52e3",
   "metadata": {},
   "source": [
    "## len\n",
    "\n",
    "len(s)은 입력값 s의 길이(요소의 전체 개수)를 리턴하는 함수이다"
   ]
  },
  {
   "cell_type": "code",
   "execution_count": 7,
   "id": "9951a302",
   "metadata": {},
   "outputs": [
    {
     "name": "stdout",
     "output_type": "stream",
     "text": [
      "6\n"
     ]
    }
   ],
   "source": [
    "print(len(\"python\"))"
   ]
  },
  {
   "cell_type": "markdown",
   "id": "2e84ea80",
   "metadata": {},
   "source": [
    "## list\n",
    "\n",
    "list는 반복 가능한 데이터를 입력받아 리스트로 만들어 리턴하는 함수이다\n",
    "\n",
    "list 함수에 리스트를 입력하면 똑같은 리스트를 복사하여 리턴한다"
   ]
  },
  {
   "cell_type": "code",
   "execution_count": 8,
   "id": "1995c5ba",
   "metadata": {},
   "outputs": [
    {
     "name": "stdout",
     "output_type": "stream",
     "text": [
      "['p', 'y', 't', 'h', 'o', 'n']\n"
     ]
    }
   ],
   "source": [
    "print(list(\"python\"))"
   ]
  },
  {
   "cell_type": "code",
   "execution_count": 9,
   "id": "4093e782",
   "metadata": {},
   "outputs": [
    {
     "name": "stdout",
     "output_type": "stream",
     "text": [
      "[1, 2, 3]\n"
     ]
    }
   ],
   "source": [
    "a = [1,2,3]\n",
    "b=list(a)\n",
    "print(b)"
   ]
  },
  {
   "cell_type": "markdown",
   "id": "f861be9f",
   "metadata": {},
   "source": [
    "## map\n",
    "\n",
    "map(f, iterable)은 함수(f)와 반복 가능한 데이터를 입력으로 받는다\n",
    "\n",
    "map 함수는 입력받은 데이터의 각 요소에 함수 f를 적용한 결과를 리턴하는 함수이다"
   ]
  },
  {
   "cell_type": "markdown",
   "id": "91fca710",
   "metadata": {},
   "source": [
    "## max\n",
    "\n",
    "max 함수는 인수로 반복 가능한 데이터를 입력받아 그 최댓값을 리턴하는 함수이다"
   ]
  },
  {
   "cell_type": "code",
   "execution_count": 10,
   "id": "fbdd9678",
   "metadata": {},
   "outputs": [
    {
     "name": "stdout",
     "output_type": "stream",
     "text": [
      "3\n"
     ]
    }
   ],
   "source": [
    "print(max([1,2,3]))"
   ]
  },
  {
   "cell_type": "markdown",
   "id": "3a5acf70",
   "metadata": {},
   "source": [
    "## min\n",
    "\n",
    "min 함수는 max 함수와 반대로, 인수로 반복 가능한 데이터를 입력받아 그 최솟값을 리턴하는 함수이다"
   ]
  },
  {
   "cell_type": "code",
   "execution_count": 11,
   "id": "3eb6db79",
   "metadata": {},
   "outputs": [
    {
     "name": "stdout",
     "output_type": "stream",
     "text": [
      "1\n"
     ]
    }
   ],
   "source": [
    "print(min([1,2,3]))"
   ]
  },
  {
   "cell_type": "markdown",
   "id": "079b54d2",
   "metadata": {},
   "source": [
    "## oct\n",
    "\n",
    "oct(x)는 정수를 8진수 문자열로 바꾸어 리턴하는 함수이다"
   ]
  },
  {
   "cell_type": "code",
   "execution_count": 12,
   "id": "38f34801",
   "metadata": {},
   "outputs": [
    {
     "name": "stdout",
     "output_type": "stream",
     "text": [
      "0o42\n"
     ]
    }
   ],
   "source": [
    "print(oct(34))"
   ]
  },
  {
   "cell_type": "markdown",
   "id": "84d64a2a",
   "metadata": {},
   "source": [
    "## open\n",
    "\n",
    "open(filename, [mode])은 \"파일 이름\"과 \"읽기 방법\"을 입력받아 파일 객체를 리턴하는 함수이다\n",
    "\n",
    "읽기 방법(mode)을 생략하면 기본값인 읽기 모드(r)로 파일 객체를 만들어 리턴한다\n",
    "\n",
    "mode/설명\n",
    "\n",
    "w: 쓰기 모드로 파일 열기\n",
    "\n",
    "r: 읽기 모드로 파일 열기\n",
    "    \n",
    "a: 추가 모드로 파일 열기\n",
    "    \n",
    "b: 바이너리 모드로 파일 열기\n",
    "    \n",
    "rb: 바이너리 읽기 모드"
   ]
  },
  {
   "cell_type": "markdown",
   "id": "594e6edf",
   "metadata": {},
   "source": [
    "## ord\n",
    "\n",
    "ord(c)는 문자의 유니코드 숫자 값을 리턴하는 함수이다\n",
    "\n",
    "ord 함수는 chr 함수와 반대이다"
   ]
  },
  {
   "cell_type": "code",
   "execution_count": 15,
   "id": "e494ca10",
   "metadata": {},
   "outputs": [
    {
     "name": "stdout",
     "output_type": "stream",
     "text": [
      "97\n",
      "44032\n"
     ]
    }
   ],
   "source": [
    "print(ord('a'))\n",
    "print(ord('가'))"
   ]
  },
  {
   "cell_type": "markdown",
   "id": "bd957e22",
   "metadata": {},
   "source": [
    "## pow\n",
    "\n",
    "pow(x,y)는 x의 y 제곱한 결괏값을 리턴하는 함수이다"
   ]
  },
  {
   "cell_type": "code",
   "execution_count": 17,
   "id": "36ac2a9b",
   "metadata": {},
   "outputs": [
    {
     "name": "stdout",
     "output_type": "stream",
     "text": [
      "16\n"
     ]
    }
   ],
   "source": [
    "print(pow(2,4))"
   ]
  },
  {
   "cell_type": "markdown",
   "id": "4d8f3080",
   "metadata": {},
   "source": [
    "## range\n",
    "\n",
    "range([start], stop[,step])는 for문과 함께 자주 사용하는 함수이다\n",
    "\n",
    "이 함수는 입력받은 숫자에 해당하는 범위 값을 반복 가능한 객체로 만들어 리턴한다"
   ]
  },
  {
   "cell_type": "markdown",
   "id": "53ab4ea4",
   "metadata": {},
   "source": [
    "### 인수가 하나일 경우\n",
    "\n",
    "시작 숫자를 지정해 주지 않으면 range 함수는 0부터 시작한다"
   ]
  },
  {
   "cell_type": "code",
   "execution_count": 19,
   "id": "4682a99b",
   "metadata": {},
   "outputs": [
    {
     "name": "stdout",
     "output_type": "stream",
     "text": [
      "[0, 1, 2, 3, 4]\n"
     ]
    }
   ],
   "source": [
    "print(list(range(5)))"
   ]
  },
  {
   "cell_type": "markdown",
   "id": "a8170e5e",
   "metadata": {},
   "source": [
    "### 인수가 2개일 경우\n",
    "\n",
    "입력으로 주어지는 2개의 인수는 시작 숫자와 끝 숫자를 나타낸다\n",
    "\n",
    "단 끝 숫자는 해당 범위에 포함되지 않는다는 것에 주의!!"
   ]
  },
  {
   "cell_type": "code",
   "execution_count": 20,
   "id": "0a733d6c",
   "metadata": {},
   "outputs": [
    {
     "name": "stdout",
     "output_type": "stream",
     "text": [
      "[5, 6, 7, 8, 9]\n"
     ]
    }
   ],
   "source": [
    "print(list(range(5,10)))"
   ]
  },
  {
   "cell_type": "markdown",
   "id": "19abbfde",
   "metadata": {},
   "source": [
    "### 인수가 3개일 경우\n",
    "\n",
    "세 번째 인수는 숫자 사이의 거리를 말한다"
   ]
  },
  {
   "cell_type": "code",
   "execution_count": 21,
   "id": "ac3cbf31",
   "metadata": {},
   "outputs": [
    {
     "name": "stdout",
     "output_type": "stream",
     "text": [
      "[1, 3, 5, 7, 9]\n"
     ]
    }
   ],
   "source": [
    "print(list(range(1,10,2)))"
   ]
  },
  {
   "cell_type": "markdown",
   "id": "617c7921",
   "metadata": {},
   "source": [
    "## round\n",
    "\n",
    "round(number[,ndigits]) 함수는 숫자를 입력받아 반올림해 리턴하는 함수이다\n",
    "\n",
    "[, ndigits]는 ndigits가 있을 수도 있고 없을 수도 있다는 의미이다\n",
    "\n",
    "round 함수의 두 번째 인수는 반올림하여 표시하고 싶은 소수점의 자릿수(ndigits)를 의미한다"
   ]
  },
  {
   "cell_type": "code",
   "execution_count": 22,
   "id": "e7ea2b4e",
   "metadata": {},
   "outputs": [
    {
     "name": "stdout",
     "output_type": "stream",
     "text": [
      "4\n",
      "5.68\n"
     ]
    }
   ],
   "source": [
    "print(round(4,6))\n",
    "print(round(5.678,2))"
   ]
  },
  {
   "cell_type": "markdown",
   "id": "a9718e08",
   "metadata": {},
   "source": [
    "## sorted\n",
    "\n",
    "sorted 함수는 입력 데이터를 정렬한 후 그 결과를 리스트로 리턴하는 함수이다\n",
    "\n",
    "리스트 자료형에도 sort 함수가 있다\n",
    "\n",
    "하지만 리스트 자료형의 sort 함수는 리스트 객체 그 자체를 정렬만 할 뿐 정렬된 결과를 리턴하지는 않는다"
   ]
  },
  {
   "cell_type": "code",
   "execution_count": 23,
   "id": "dc5ee86e",
   "metadata": {},
   "outputs": [
    {
     "name": "stdout",
     "output_type": "stream",
     "text": [
      "[1, 2, 3]\n"
     ]
    }
   ],
   "source": [
    "print(sorted([3,1,2]))"
   ]
  },
  {
   "cell_type": "markdown",
   "id": "02f9aaba",
   "metadata": {},
   "source": [
    "## str\n",
    "\n",
    "str(object)은 문자열 형태로 객체를 변환하여 리턴하는 함수이다"
   ]
  },
  {
   "cell_type": "code",
   "execution_count": 26,
   "id": "69c7e588",
   "metadata": {},
   "outputs": [
    {
     "name": "stdout",
     "output_type": "stream",
     "text": [
      "3\n",
      "hi\n"
     ]
    }
   ],
   "source": [
    "print(str(3))\n",
    "print(str('hi'))"
   ]
  },
  {
   "cell_type": "markdown",
   "id": "9618daec",
   "metadata": {},
   "source": [
    "## sum\n",
    "\n",
    "sum 함수는 입력 데이터의 합을 리턴하는 함수이다"
   ]
  },
  {
   "cell_type": "code",
   "execution_count": 27,
   "id": "26ab9337",
   "metadata": {},
   "outputs": [
    {
     "name": "stdout",
     "output_type": "stream",
     "text": [
      "6\n"
     ]
    }
   ],
   "source": [
    "print(sum([1,2,3]))"
   ]
  },
  {
   "cell_type": "markdown",
   "id": "8f9e2392",
   "metadata": {},
   "source": [
    "## tuple\n",
    "\n",
    "tuple은 반복 가능한 데이터를 튜플로 바꾸어 리턴하는 함수이다\n",
    "\n",
    "만약 입력이 튜플인 경우에는 그대로 리턴한다"
   ]
  },
  {
   "cell_type": "code",
   "execution_count": 31,
   "id": "e712ae37",
   "metadata": {},
   "outputs": [
    {
     "name": "stdout",
     "output_type": "stream",
     "text": [
      "('a', 'b', 'c')\n",
      "(1, 2, 3)\n",
      "(1, 2, 3)\n"
     ]
    }
   ],
   "source": [
    "print(tuple(\"abc\"))\n",
    "print(tuple([1,2,3]))\n",
    "print(tuple((1,2,3)))"
   ]
  },
  {
   "cell_type": "markdown",
   "id": "e921b0a2",
   "metadata": {},
   "source": [
    "## type\n",
    "\n",
    "type은 입력값의 자료형이 무엇인지 알려 주는 함수이다"
   ]
  },
  {
   "cell_type": "code",
   "execution_count": 34,
   "id": "625b850a",
   "metadata": {},
   "outputs": [
    {
     "name": "stdout",
     "output_type": "stream",
     "text": [
      "<class 'str'>\n",
      "<class 'list'>\n"
     ]
    }
   ],
   "source": [
    "print(type(\"abc\"))\n",
    "print(type([]))"
   ]
  },
  {
   "cell_type": "code",
   "execution_count": null,
   "id": "555fe274",
   "metadata": {},
   "outputs": [],
   "source": [
    "## zip\n",
    "\n",
    "zip(\"iterable\")은 동일한 개수로 이루어진 데이터들을 묶어서 리턴하는 함수이다\n",
    "\n",
    "여기서 사"
   ]
  }
 ],
 "metadata": {
  "kernelspec": {
   "display_name": "Python 3 (ipykernel)",
   "language": "python",
   "name": "python3"
  },
  "language_info": {
   "codemirror_mode": {
    "name": "ipython",
    "version": 3
   },
   "file_extension": ".py",
   "mimetype": "text/x-python",
   "name": "python",
   "nbconvert_exporter": "python",
   "pygments_lexer": "ipython3",
   "version": "3.10.9"
  }
 },
 "nbformat": 4,
 "nbformat_minor": 5
}
