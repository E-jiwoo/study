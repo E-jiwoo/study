{
 "cells": [
  {
   "cell_type": "markdown",
   "id": "73d37ccc",
   "metadata": {},
   "source": [
    "# for문의 기본 구조\n",
    "\n",
    "리스트나 튜플, 문자열의 첫 번째 요소부터 마지막 요소까지 차례로 변수에 대입되어 \"수행할 문장1\", \"수행할 문장2\"등이 수행된다"
   ]
  },
  {
   "cell_type": "markdown",
   "id": "8feb6ca0",
   "metadata": {},
   "source": [
    "for 변수 in 리스트(또는 튜플, 문자열):\n",
    "    \n",
    "    수행할 문장1\n",
    "    수행할 문장2"
   ]
  },
  {
   "cell_type": "markdown",
   "id": "e84e3b5b",
   "metadata": {},
   "source": [
    "## 예제를 통해 for문 이해하기"
   ]
  },
  {
   "cell_type": "markdown",
   "id": "e1e46b7e",
   "metadata": {},
   "source": [
    "### 전형적인 for문"
   ]
  },
  {
   "cell_type": "code",
   "execution_count": 1,
   "id": "09e3de15",
   "metadata": {},
   "outputs": [
    {
     "name": "stdout",
     "output_type": "stream",
     "text": [
      "one\n",
      "two\n",
      "three\n"
     ]
    }
   ],
   "source": [
    "test_list = ['one', 'two', 'three']\n",
    "for i in test_list:\n",
    "    print(i)"
   ]
  },
  {
   "cell_type": "markdown",
   "id": "b91301d3",
   "metadata": {},
   "source": [
    "### 다양한 for문의 사용"
   ]
  },
  {
   "cell_type": "code",
   "execution_count": 2,
   "id": "34fe283c",
   "metadata": {},
   "outputs": [
    {
     "name": "stdout",
     "output_type": "stream",
     "text": [
      "3\n",
      "7\n",
      "11\n"
     ]
    }
   ],
   "source": [
    "a = [{1, 2}, (3, 4), (5, 6)]\n",
    "for (first, last) in a:\n",
    "    print(first + last)"
   ]
  },
  {
   "cell_type": "markdown",
   "id": "b0312d7e",
   "metadata": {},
   "source": [
    "## for문과 continue\n",
    "\n",
    "for문 안의 문장을 수행하는 도중에 continue문을 만나면 for문의 처음으로 돌아가게 된다"
   ]
  },
  {
   "cell_type": "markdown",
   "id": "0023119e",
   "metadata": {},
   "source": [
    "## for문과 함께 자주 사용하는 range 함수\n",
    "\n",
    "range함수란 숫자 리스트를 자동으로 만들어 주는 함수이다 \n",
    "\n",
    "시작 숫자와 끝 숫자를 지정하려면 range(시작 숫자, 끝 숫자)형태를 사용하는데, 이때 끝 숫자는 포함되지 않는다"
   ]
  },
  {
   "cell_type": "code",
   "execution_count": 6,
   "id": "548cae5a",
   "metadata": {},
   "outputs": [
    {
     "name": "stdout",
     "output_type": "stream",
     "text": [
      "range(0, 10)\n"
     ]
    }
   ],
   "source": [
    "a = range(10)\n",
    "print(a)"
   ]
  },
  {
   "cell_type": "code",
   "execution_count": 7,
   "id": "8b7e48a4",
   "metadata": {},
   "outputs": [
    {
     "name": "stdout",
     "output_type": "stream",
     "text": [
      "55\n"
     ]
    }
   ],
   "source": [
    "add = 0\n",
    "for i in range(1, 11):\n",
    "    add = add + i\n",
    "    \n",
    "print(add)"
   ]
  },
  {
   "cell_type": "markdown",
   "id": "85f7cc81",
   "metadata": {},
   "source": [
    "## 리스트 컴프리헨션 사용하기\n",
    "\n",
    "for문을 포함하는 리스트 컨프리헨션(List comprehension)를 사용하면 좀 더 편리하고 직관적인 프로그램을 만들 수 있다\n",
    "\n",
    "리스트 컨프리헨션의 문법은 \"if 조건\"부분은 앞의 예제에서 볼 수 있듯이 생략할 수 있다\n",
    "\n",
    "조금 복잡하지만 for문을 2개 이상 사용하는 것도 가능하다"
   ]
  },
  {
   "cell_type": "code",
   "execution_count": 9,
   "id": "e5ce1c51",
   "metadata": {},
   "outputs": [
    {
     "name": "stdout",
     "output_type": "stream",
     "text": [
      "[3, 6, 9, 12]\n"
     ]
    }
   ],
   "source": [
    "a = [1, 2, 3, 4]\n",
    "result = []\n",
    "for num in a:\n",
    "    result.append(num*3)\n",
    "    \n",
    "print(result)"
   ]
  },
  {
   "cell_type": "code",
   "execution_count": 10,
   "id": "178bbca3",
   "metadata": {},
   "outputs": [
    {
     "name": "stdout",
     "output_type": "stream",
     "text": [
      "[6, 12]\n"
     ]
    }
   ],
   "source": [
    "a = [1, 2, 3, 4]\n",
    "result = [num*3 for num in a if num % 2 == 0]\n",
    "print(result)"
   ]
  },
  {
   "cell_type": "markdown",
   "id": "85095d8a",
   "metadata": {},
   "source": [
    "[표현식]\n",
    "\n",
    "for 항목1 in 반복가능객체1 if 조건문1\n",
    "\n",
    "for 항목2 in 반복가능객체2 if 조건문2\n",
    "\n",
    "...\n",
    "\n",
    "for 항목n in 반복가능객체n if 조건문n"
   ]
  }
 ],
 "metadata": {
  "kernelspec": {
   "display_name": "Python 3 (ipykernel)",
   "language": "python",
   "name": "python3"
  },
  "language_info": {
   "codemirror_mode": {
    "name": "ipython",
    "version": 3
   },
   "file_extension": ".py",
   "mimetype": "text/x-python",
   "name": "python",
   "nbconvert_exporter": "python",
   "pygments_lexer": "ipython3",
   "version": "3.10.9"
  }
 },
 "nbformat": 4,
 "nbformat_minor": 5
}
