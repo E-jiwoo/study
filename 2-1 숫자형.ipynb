{
 "cells": [
  {
   "cell_type": "markdown",
   "id": "21bf48ab",
   "metadata": {},
   "source": [
    "# 숫자형\n",
    "\n",
    "숫자 형태로 이루어진 자료형"
   ]
  },
  {
   "cell_type": "markdown",
   "id": "1b89a0cf",
   "metadata": {},
   "source": [
    "## 정수형\n",
    "\n",
    "정수를 뜻하는 자료형"
   ]
  },
  {
   "cell_type": "code",
   "execution_count": 1,
   "id": "14587bb7",
   "metadata": {},
   "outputs": [
    {
     "name": "stdout",
     "output_type": "stream",
     "text": [
      "123\n"
     ]
    }
   ],
   "source": [
    "a = 123\n",
    "\n",
    "print(a)"
   ]
  },
  {
   "cell_type": "code",
   "execution_count": 4,
   "id": "0f27f279",
   "metadata": {},
   "outputs": [
    {
     "name": "stdout",
     "output_type": "stream",
     "text": [
      "-178\n"
     ]
    }
   ],
   "source": [
    "a = -178\n",
    "print(a)"
   ]
  },
  {
   "cell_type": "code",
   "execution_count": 5,
   "id": "d7edde92",
   "metadata": {},
   "outputs": [
    {
     "name": "stdout",
     "output_type": "stream",
     "text": [
      "0\n"
     ]
    }
   ],
   "source": [
    "a = 0\n",
    "print(a)"
   ]
  },
  {
   "cell_type": "markdown",
   "id": "27a3435b",
   "metadata": {},
   "source": [
    "## 실수형\n",
    "\n",
    "소수점이 포함된 숫자"
   ]
  },
  {
   "cell_type": "code",
   "execution_count": 6,
   "id": "fa54477c",
   "metadata": {},
   "outputs": [
    {
     "name": "stdout",
     "output_type": "stream",
     "text": [
      "1.2\n"
     ]
    }
   ],
   "source": [
    "a = 1.2\n",
    "print(a)"
   ]
  },
  {
   "cell_type": "code",
   "execution_count": 7,
   "id": "9c8d811d",
   "metadata": {
    "scrolled": true
   },
   "outputs": [
    {
     "name": "stdout",
     "output_type": "stream",
     "text": [
      "-3.45\n"
     ]
    }
   ],
   "source": [
    "a = -3.45\n",
    "print(a)"
   ]
  },
  {
   "cell_type": "markdown",
   "id": "70567876",
   "metadata": {},
   "source": [
    "### 컴퓨터식 지수 표현 방식\n",
    " \n",
    " 파이썬에서는 4.24e10 또는 4.24E10처럼 표현한다 (e와 E 둘 중 어느 것을 사용해도 무방하다)\n",
    " \n",
    " -> 여기서 4.24E10은 4.24*10의 10제곱, 4.24* 10의 -10제곱을 의미"
   ]
  },
  {
   "cell_type": "code",
   "execution_count": 10,
   "id": "acba8033",
   "metadata": {},
   "outputs": [
    {
     "name": "stdout",
     "output_type": "stream",
     "text": [
      "42400000000.0\n"
     ]
    }
   ],
   "source": [
    "a = 4.24e10\n",
    "print(a)"
   ]
  },
  {
   "cell_type": "code",
   "execution_count": 11,
   "id": "f9dc8588",
   "metadata": {},
   "outputs": [
    {
     "name": "stdout",
     "output_type": "stream",
     "text": [
      "42.4\n"
     ]
    }
   ],
   "source": [
    "a= 4.24e1\n",
    "print(a)"
   ]
  },
  {
   "cell_type": "markdown",
   "id": "434b2c01",
   "metadata": {},
   "source": [
    "## 8진수와 16진수\n",
    "\n",
    "만들기 위해서는"
   ]
  },
  {
   "cell_type": "markdown",
   "id": "133ac485",
   "metadata": {},
   "source": [
    "### 8진수 \n",
    "\n",
    "0o 또는 0O(숫자 0 + 알파벳 소문자 o 또는 대문자 O)로 시작하면 된다\n",
    "\n",
    "-> 숫자 0부터 7까지 사용 (총 8개)"
   ]
  },
  {
   "cell_type": "code",
   "execution_count": 20,
   "id": "8e7bd0a1",
   "metadata": {},
   "outputs": [
    {
     "name": "stdout",
     "output_type": "stream",
     "text": [
      "7\n"
     ]
    }
   ],
   "source": [
    "a = 0o7\n",
    "print(a)"
   ]
  },
  {
   "cell_type": "code",
   "execution_count": 16,
   "id": "7450e6b3",
   "metadata": {},
   "outputs": [
    {
     "name": "stdout",
     "output_type": "stream",
     "text": [
      "8\n"
     ]
    }
   ],
   "source": [
    "a = 0o10\n",
    "print(a)"
   ]
  },
  {
   "cell_type": "markdown",
   "id": "378b9de1",
   "metadata": {},
   "source": [
    "### 16진수\n",
    "\n",
    "0x로 시작하면 된다\n",
    "\n",
    "-> 숫자 0부터 F까지 사용 (총 16개)"
   ]
  },
  {
   "cell_type": "code",
   "execution_count": 21,
   "id": "de515ad5",
   "metadata": {},
   "outputs": [
    {
     "name": "stdout",
     "output_type": "stream",
     "text": [
      "10\n"
     ]
    }
   ],
   "source": [
    "a = 0xA\n",
    "print(a)"
   ]
  },
  {
   "cell_type": "code",
   "execution_count": 23,
   "id": "61d2136d",
   "metadata": {},
   "outputs": [
    {
     "name": "stdout",
     "output_type": "stream",
     "text": [
      "11\n"
     ]
    }
   ],
   "source": [
    "a = 0xB\n",
    "print(a)"
   ]
  },
  {
   "cell_type": "markdown",
   "id": "b3e0b437",
   "metadata": {},
   "source": [
    "## 숫자형을 활용하기 위한 연산자 "
   ]
  },
  {
   "cell_type": "markdown",
   "id": "9182148f",
   "metadata": {},
   "source": [
    "### 사칙연산\n",
    "\n",
    "+,  -,  *,  /"
   ]
  },
  {
   "cell_type": "code",
   "execution_count": 25,
   "id": "a5648880",
   "metadata": {},
   "outputs": [
    {
     "name": "stdout",
     "output_type": "stream",
     "text": [
      "10\n",
      "-6\n",
      "16\n",
      "0.25\n"
     ]
    }
   ],
   "source": [
    "a = 2\n",
    "b = 8\n",
    "\n",
    "print(a+b)\n",
    "print(a-b)\n",
    "print(a*b)\n",
    "print(a/b)"
   ]
  },
  {
   "cell_type": "markdown",
   "id": "2871abd8",
   "metadata": {},
   "source": [
    "### ** 연산자\n",
    "\n",
    "x ** y처럼 사용했을 때 x의 y제곱을 리턴한다"
   ]
  },
  {
   "cell_type": "code",
   "execution_count": 26,
   "id": "96c9f2ea",
   "metadata": {},
   "outputs": [
    {
     "name": "stdout",
     "output_type": "stream",
     "text": [
      "16\n"
     ]
    }
   ],
   "source": [
    "a = 2\n",
    "b = 4\n",
    "print(a**b)"
   ]
  },
  {
   "cell_type": "markdown",
   "id": "26216fa2",
   "metadata": {},
   "source": [
    "### % 연산자\n",
    "\n",
    "나눗셈의 나머지 값을 리턴하는 연산자이다"
   ]
  },
  {
   "cell_type": "code",
   "execution_count": 28,
   "id": "6dabc4ec",
   "metadata": {},
   "outputs": [
    {
     "name": "stdout",
     "output_type": "stream",
     "text": [
      "0\n"
     ]
    }
   ],
   "source": [
    "print(4 % 2)"
   ]
  },
  {
   "cell_type": "markdown",
   "id": "428c11df",
   "metadata": {},
   "source": [
    "### / 연산자\n",
    "\n",
    "/ 연산자를 사용하면 나눗셈한 값을 그대로 리턴한다(소수점까지 나옴)"
   ]
  },
  {
   "cell_type": "code",
   "execution_count": 31,
   "id": "ea73035f",
   "metadata": {},
   "outputs": [
    {
     "name": "stdout",
     "output_type": "stream",
     "text": [
      "1.6\n"
     ]
    }
   ],
   "source": [
    "print(8 / 5)"
   ]
  },
  {
   "cell_type": "markdown",
   "id": "5da6232b",
   "metadata": {},
   "source": [
    "### // 연산자\n",
    "\n",
    "// 연산자를 사용하면 나눗셈한 값에서 정수값만 리턴한다"
   ]
  },
  {
   "cell_type": "code",
   "execution_count": 33,
   "id": "d29728fd",
   "metadata": {},
   "outputs": [
    {
     "name": "stdout",
     "output_type": "stream",
     "text": [
      "1\n"
     ]
    }
   ],
   "source": [
    "print(8 // 5)"
   ]
  }
 ],
 "metadata": {
  "kernelspec": {
   "display_name": "Python 3 (ipykernel)",
   "language": "python",
   "name": "python3"
  },
  "language_info": {
   "codemirror_mode": {
    "name": "ipython",
    "version": 3
   },
   "file_extension": ".py",
   "mimetype": "text/x-python",
   "name": "python",
   "nbconvert_exporter": "python",
   "pygments_lexer": "ipython3",
   "version": "3.10.9"
  }
 },
 "nbformat": 4,
 "nbformat_minor": 5
}
