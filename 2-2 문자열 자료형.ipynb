{
 "cells": [
  {
   "cell_type": "markdown",
   "id": "c9d6be7e",
   "metadata": {},
   "source": [
    "# 문자열\n",
    "\n",
    "문자, 단어 등으로 구성된 문자들의 집합\n",
    "\n",
    "-> 따옴표로 둘러싸여 있으면 모두 문자열이라고 보면 된다"
   ]
  },
  {
   "cell_type": "markdown",
   "id": "9bbbce97",
   "metadata": {},
   "source": [
    "## 문자열을 만드는 방법 4가지\n"
   ]
  },
  {
   "cell_type": "markdown",
   "id": "e9b112a1",
   "metadata": {},
   "source": [
    "### 1. 큰따옴표( \" )로 양쪽 둘러싸기\n",
    "\n",
    "-> 문자열 중 큰따옴표(\")를 포함시키고 싶을 때에는 문자열을 작은따옴표(')로 둘러싸야 한다\n",
    "\n",
    "( 작은따옴표 안에 들어 있는 큰따옴표는 문자열을 나타내기 위한 기호로 인식되지 않는다 )"
   ]
  },
  {
   "cell_type": "code",
   "execution_count": 1,
   "id": "aa8af777",
   "metadata": {},
   "outputs": [
    {
     "name": "stdout",
     "output_type": "stream",
     "text": [
      "Hello World\n"
     ]
    }
   ],
   "source": [
    "print(\"Hello World\")"
   ]
  },
  {
   "cell_type": "code",
   "execution_count": 7,
   "id": "8e9ac640",
   "metadata": {},
   "outputs": [
    {
     "name": "stdout",
     "output_type": "stream",
     "text": [
      "\"Python is easy\" she says\n"
     ]
    }
   ],
   "source": [
    "print('\"Python is easy\" she says')"
   ]
  },
  {
   "cell_type": "markdown",
   "id": "98fb0e7f",
   "metadata": {},
   "source": [
    "### 2. 작은따옴표( ' )로 양쪽 둘러싸기\n",
    "\n",
    "-> 문자열 중 ex) Python's 처럼 작은따옴표(')가 포함되어 있을 때에는 문자열을 큰따옴표(\")로 둘러싸야 한다\n",
    "\n",
    "( 큰따옴표 안에 들어 있는 작은따옴표는 문자열을 나타내기 위한 기호로 인식되지 않는다 )"
   ]
  },
  {
   "cell_type": "code",
   "execution_count": 2,
   "id": "94e786d0",
   "metadata": {},
   "outputs": [
    {
     "name": "stdout",
     "output_type": "stream",
     "text": [
      "Hello World\n"
     ]
    }
   ],
   "source": [
    "print('Hello World')"
   ]
  },
  {
   "cell_type": "code",
   "execution_count": 5,
   "id": "aaecf45e",
   "metadata": {},
   "outputs": [
    {
     "name": "stdout",
     "output_type": "stream",
     "text": [
      "python's favorite color is blue\n"
     ]
    }
   ],
   "source": [
    "print(\"python's favorite color is blue\")"
   ]
  },
  {
   "cell_type": "markdown",
   "id": "860c5d94",
   "metadata": {},
   "source": [
    "### 3. 큰따옴표 3개를 연속 ( \"\"\" )으로 써서 양쪽 둘러싸기"
   ]
  },
  {
   "cell_type": "code",
   "execution_count": 3,
   "id": "5c17e8e4",
   "metadata": {},
   "outputs": [
    {
     "name": "stdout",
     "output_type": "stream",
     "text": [
      "Hello World\n"
     ]
    }
   ],
   "source": [
    "print(\"\"\"Hello World\"\"\")"
   ]
  },
  {
   "cell_type": "markdown",
   "id": "58fcb260",
   "metadata": {},
   "source": [
    "### 4. 작은따옴표 3개를 연속 ( ''' )으로 써서 양쪽 둘러싸기"
   ]
  },
  {
   "cell_type": "code",
   "execution_count": 4,
   "id": "045e9520",
   "metadata": {},
   "outputs": [
    {
     "name": "stdout",
     "output_type": "stream",
     "text": [
      "Hello World\n"
     ]
    }
   ],
   "source": [
    "print('''Hello World''')"
   ]
  },
  {
   "cell_type": "markdown",
   "id": "eaf82530",
   "metadata": {},
   "source": [
    "이스케이프 코드를 쓰는 것보다 따옴표를 연속해서 쓰는 것이 훨씬 깔끔하다"
   ]
  },
  {
   "cell_type": "markdown",
   "id": "6bd0d75c",
   "metadata": {},
   "source": [
    "## 이스케이프 코드\n",
    "\n",
    "\\n = 문자열 안에서 줄을 바꿀 때 사용\n",
    "\n",
    "\\t = 문자열 사이에 탭 간격을 줄 때 사용\n",
    "\n",
    "\\\\\\ = 문자 \\를 그대로 표현할 때 사용\n",
    "\n",
    "\\\\' = 작은따옴표를 그대로 표현할 때 사용\n",
    "\n",
    "\\\\\" = 큰따옴표를 그대로 표현할 때 사용\n",
    "\n",
    "\\r = 캐리지 리턴(줄 바꿈 문자, 현재 커서를 가장 앞으로 이동)\n",
    "\n",
    "\\f = 폼 피드(줄 바꿈 문자, 현재 커서를 다음 줄로이동) \n",
    "\n",
    "\\a = 벨 소리(출력할 때 PC 스피커에서 '삑' 소리가 난다)\n",
    "\n",
    "\\b = 백 스페이스\n",
    "\n",
    "\\000 = 널 문자"
   ]
  },
  {
   "cell_type": "markdown",
   "id": "4bedd52d",
   "metadata": {},
   "source": [
    "## 문자열 연산하기\n",
    "\n",
    "문자열을 더하거나 곱한다"
   ]
  },
  {
   "cell_type": "markdown",
   "id": "9213f16d",
   "metadata": {},
   "source": [
    "### 문자열 더해서 연결하기\n",
    "\n"
   ]
  },
  {
   "cell_type": "code",
   "execution_count": 8,
   "id": "0a017cb9",
   "metadata": {},
   "outputs": [
    {
     "name": "stdout",
     "output_type": "stream",
     "text": [
      "Pythonis fun\n"
     ]
    }
   ],
   "source": [
    "head = \"Python\"\n",
    "tail = \"is fun\"\n",
    "print(head + tail)"
   ]
  },
  {
   "cell_type": "code",
   "execution_count": 10,
   "id": "7e099e42",
   "metadata": {},
   "outputs": [
    {
     "name": "stdout",
     "output_type": "stream",
     "text": [
      "Python is fun\n"
     ]
    }
   ],
   "source": [
    "print(\"Python\" + \" is fun\")"
   ]
  },
  {
   "cell_type": "markdown",
   "id": "b08698b4",
   "metadata": {},
   "source": [
    "### 문자열 곱하기"
   ]
  },
  {
   "cell_type": "code",
   "execution_count": 12,
   "id": "0b1971e4",
   "metadata": {},
   "outputs": [
    {
     "name": "stdout",
     "output_type": "stream",
     "text": [
      "pythonpython\n"
     ]
    }
   ],
   "source": [
    "a = \"python\"\n",
    "print(a*2)"
   ]
  },
  {
   "cell_type": "code",
   "execution_count": 13,
   "id": "1bf774ea",
   "metadata": {},
   "outputs": [
    {
     "name": "stdout",
     "output_type": "stream",
     "text": [
      "pythonpython\n"
     ]
    }
   ],
   "source": [
    "print(\"python\"*2)"
   ]
  },
  {
   "cell_type": "markdown",
   "id": "3a37d6ce",
   "metadata": {},
   "source": [
    "#### 문자열 곱하기 응용 예시"
   ]
  },
  {
   "cell_type": "code",
   "execution_count": 15,
   "id": "73ec459f",
   "metadata": {},
   "outputs": [
    {
     "name": "stdout",
     "output_type": "stream",
     "text": [
      "==================================================\n",
      "My Program\n",
      "==================================================\n"
     ]
    }
   ],
   "source": [
    "print(\"=\" * 50)\n",
    "print(\"My Program\")\n",
    "print(\"=\" * 50)"
   ]
  },
  {
   "cell_type": "markdown",
   "id": "a5aeafdb",
   "metadata": {},
   "source": [
    "### 문자열 길이 구하기 \n",
    "\n",
    "len 함수는 print함수처럼 파이썬의 기본 내장 함수로 별다른 설정 없이 바로 사용할 수 있다"
   ]
  },
  {
   "cell_type": "code",
   "execution_count": 19,
   "id": "490ae5f5",
   "metadata": {},
   "outputs": [
    {
     "name": "stdout",
     "output_type": "stream",
     "text": [
      "13\n"
     ]
    }
   ],
   "source": [
    "a = \"Python is fun\"\n",
    "print(len(a))"
   ]
  },
  {
   "cell_type": "markdown",
   "id": "9f28c4ea",
   "metadata": {},
   "source": [
    "## 문자열 인덱싱\n",
    "\n",
    "문자열 안의 특정한 값을 뽑아내는 작업\n",
    "\n",
    "a[번호]"
   ]
  },
  {
   "cell_type": "code",
   "execution_count": 22,
   "id": "3b3b2375",
   "metadata": {},
   "outputs": [
    {
     "name": "stdout",
     "output_type": "stream",
     "text": [
      "h\n"
     ]
    }
   ],
   "source": [
    "a = \"Python is fun\"\n",
    "print(a[3])"
   ]
  },
  {
   "cell_type": "markdown",
   "id": "705f908b",
   "metadata": {},
   "source": [
    "## 문자열 슬라이싱\n",
    "\n",
    "a[시작 번호:끝 번호]에서 끝 번호 부분을 생략하면 시작 번호부터 그 문자열의 끝까지 뽑아낸다\n",
    "\n",
    "a[시작 번호:끝 번호]에서 시작 번호를 생략하면 문자열의 처음부터 끝 번호까지 뽑아낸다\n",
    "\n",
    "a[시작 번호: 끝 번호]에서 시작 번호와 끝 번호를 생략하면 문자열의 처음부터 끝까지 뽑아낸다"
   ]
  },
  {
   "cell_type": "markdown",
   "id": "2a1808f6",
   "metadata": {},
   "source": [
    "##  문자열 포매팅\n",
    "\n",
    "문자열 안의 특정한 값을 바꿔야 할 경우가 있을 때 이것을 가능하게 해주는 것\n",
    "\n",
    "=> 문자열 안에 어떤 값을 삽입하는 방법\n",
    "\n",
    "-> 숫자를 넣기 위해서는 %d를 써야 하고, 문자열을 넣기 위해서는 %s를 써야한다\n",
    "\n",
    "-> 문자열을 대입할 때는 큰따옴표나 작은따옴표를 반드시 써주어야 한다"
   ]
  },
  {
   "cell_type": "markdown",
   "id": "3536d7fc",
   "metadata": {},
   "source": [
    "### 숫자 바로 대입"
   ]
  },
  {
   "cell_type": "code",
   "execution_count": 24,
   "id": "b01ee97c",
   "metadata": {},
   "outputs": [
    {
     "name": "stdout",
     "output_type": "stream",
     "text": [
      "I eat 3 apples\n"
     ]
    }
   ],
   "source": [
    "print (\"I eat %d apples\" %3 )"
   ]
  },
  {
   "cell_type": "markdown",
   "id": "dc3233a8",
   "metadata": {},
   "source": [
    "### 문자열 바로 대입"
   ]
  },
  {
   "cell_type": "code",
   "execution_count": 25,
   "id": "2b82167a",
   "metadata": {},
   "outputs": [
    {
     "name": "stdout",
     "output_type": "stream",
     "text": [
      "I eat five apples\n"
     ]
    }
   ],
   "source": [
    "print (\"I eat %s apples\" % \"five\")"
   ]
  },
  {
   "cell_type": "markdown",
   "id": "ac919925",
   "metadata": {},
   "source": [
    "### 숫자 값을 나타내는 변수로 대입"
   ]
  },
  {
   "cell_type": "code",
   "execution_count": 26,
   "id": "ed541f1f",
   "metadata": {},
   "outputs": [
    {
     "name": "stdout",
     "output_type": "stream",
     "text": [
      "I eat 3 apples\n"
     ]
    }
   ],
   "source": [
    "number = 3\n",
    "print(\"I eat %d apples\" % number)"
   ]
  },
  {
   "cell_type": "markdown",
   "id": "15663df6",
   "metadata": {},
   "source": [
    "### 2개 이상의 값 넣기\n",
    "\n",
    "2개 이상의 값을 넣으려면 마지막 % 다음 괄호 안에 콤마로 구분하여 각각의 값을 넣어주면 된다"
   ]
  },
  {
   "cell_type": "code",
   "execution_count": 27,
   "id": "58507b3a",
   "metadata": {},
   "outputs": [
    {
     "name": "stdout",
     "output_type": "stream",
     "text": [
      "I ate 10 apples. so I was for three days\n"
     ]
    }
   ],
   "source": [
    "number = 10\n",
    "day = 'three'\n",
    "print(\"I ate %d apples. so I was for %s days\" %(number,day))"
   ]
  },
  {
   "cell_type": "markdown",
   "id": "924a409f",
   "metadata": {},
   "source": [
    "## 문자열 포맷 코드\n",
    "\n",
    "%s 문자열\n",
    "\n",
    "%c 문자 1개\n",
    "\n",
    "%d 정수\n",
    "\n",
    "%f 부동소수\n",
    "\n",
    "%o 8진수\n",
    "\n",
    "%x 16진수\n",
    "\n",
    "%% Literal %"
   ]
  },
  {
   "cell_type": "markdown",
   "id": "d8168cb2",
   "metadata": {},
   "source": [
    "### 포맷 코드와 숫자 함께 사용하기"
   ]
  },
  {
   "cell_type": "markdown",
   "id": "19cb8a8a",
   "metadata": {},
   "source": [
    "#### 정렬과 공백"
   ]
  },
  {
   "cell_type": "code",
   "execution_count": 28,
   "id": "a89861c6",
   "metadata": {},
   "outputs": [
    {
     "name": "stdout",
     "output_type": "stream",
     "text": [
      "        hi\n"
     ]
    }
   ],
   "source": [
    "print(\"%10s\" % \"hi\")"
   ]
  },
  {
   "cell_type": "markdown",
   "id": "4de33d64",
   "metadata": {},
   "source": [
    "#### 소수점 표현하기"
   ]
  },
  {
   "cell_type": "code",
   "execution_count": 80,
   "id": "f78ad857",
   "metadata": {},
   "outputs": [
    {
     "name": "stdout",
     "output_type": "stream",
     "text": [
      "1.2343\n"
     ]
    }
   ],
   "source": [
    "print(\"%0.4f\" % 1.23434)"
   ]
  },
  {
   "cell_type": "code",
   "execution_count": 81,
   "id": "0347a87e",
   "metadata": {},
   "outputs": [
    {
     "name": "stdout",
     "output_type": "stream",
     "text": [
      "1.2349\n"
     ]
    }
   ],
   "source": [
    "print(\"%0.4f\" % 1.23489)"
   ]
  },
  {
   "cell_type": "markdown",
   "id": "01d4614d",
   "metadata": {},
   "source": [
    "### format 함수를 사용한 포매팅"
   ]
  },
  {
   "cell_type": "markdown",
   "id": "301ec91d",
   "metadata": {},
   "source": [
    "#### 숫자 바로 대입하기"
   ]
  },
  {
   "cell_type": "code",
   "execution_count": 43,
   "id": "a9af3dfa",
   "metadata": {},
   "outputs": [
    {
     "name": "stdout",
     "output_type": "stream",
     "text": [
      "I eat 5 apples\n"
     ]
    }
   ],
   "source": [
    "print(\"I eat {0} apples\" .format(5))"
   ]
  },
  {
   "cell_type": "markdown",
   "id": "2bff4bf1",
   "metadata": {},
   "source": [
    "#### 문자열 바로 대입하기"
   ]
  },
  {
   "cell_type": "code",
   "execution_count": 44,
   "id": "f4fa98bd",
   "metadata": {},
   "outputs": [
    {
     "name": "stdout",
     "output_type": "stream",
     "text": [
      "I eat five apples\n"
     ]
    }
   ],
   "source": [
    "print(\"I eat {0} apples\" .format(\"five\"))"
   ]
  },
  {
   "cell_type": "markdown",
   "id": "db0adc9c",
   "metadata": {},
   "source": [
    "#### 이름으로 넣기"
   ]
  },
  {
   "cell_type": "code",
   "execution_count": 50,
   "id": "0500e7a1",
   "metadata": {},
   "outputs": [
    {
     "name": "stdout",
     "output_type": "stream",
     "text": [
      "I ate 10 apples. So I was sick for 5 days\n"
     ]
    }
   ],
   "source": [
    "print(\"I ate {number} apples. So I was sick for {day} days\" .format(number=10, day=5))"
   ]
  },
  {
   "cell_type": "markdown",
   "id": "84519ffd",
   "metadata": {},
   "source": [
    "#### 인덱스와 이름을 혼용해서 넣기"
   ]
  },
  {
   "cell_type": "code",
   "execution_count": 53,
   "id": "d0f47a6f",
   "metadata": {},
   "outputs": [
    {
     "name": "stdout",
     "output_type": "stream",
     "text": [
      "I ate 10 apples. So I was sick for 5 days\n"
     ]
    }
   ],
   "source": [
    "print((\"I ate {0} apples. So I was sick for {day} days\") .format(10, day=5))"
   ]
  },
  {
   "cell_type": "markdown",
   "id": "873d6b4b",
   "metadata": {},
   "source": [
    "#### 왼쪽정렬 \n",
    "\n",
    ":<10\n",
    "\n",
    "치환되는 문자열을 왼쪽으로 정렬하고 문자열의 총 자릿수를 10으로 맞출 수 있다"
   ]
  },
  {
   "cell_type": "code",
   "execution_count": 54,
   "id": "1f26d3df",
   "metadata": {},
   "outputs": [
    {
     "name": "stdout",
     "output_type": "stream",
     "text": [
      "hi        \n"
     ]
    }
   ],
   "source": [
    "print(\"{0:<10}\" .format(\"hi\"))"
   ]
  },
  {
   "cell_type": "markdown",
   "id": "563d3ba6",
   "metadata": {},
   "source": [
    "#### 오른쪽 정렬\n",
    "\n",
    ":<대신 :>을 사용한다"
   ]
  },
  {
   "cell_type": "code",
   "execution_count": 55,
   "id": "6ed90e22",
   "metadata": {},
   "outputs": [
    {
     "name": "stdout",
     "output_type": "stream",
     "text": [
      "        hi\n"
     ]
    }
   ],
   "source": [
    "print(\"{0:>10}\" .format(\"hi\"))"
   ]
  },
  {
   "cell_type": "markdown",
   "id": "f717819a",
   "metadata": {},
   "source": [
    "#### 가운데 정렬\n",
    "\n",
    ":^ 를 사용한다"
   ]
  },
  {
   "cell_type": "code",
   "execution_count": 56,
   "id": "ed31f4be",
   "metadata": {},
   "outputs": [
    {
     "name": "stdout",
     "output_type": "stream",
     "text": [
      "    hi    \n"
     ]
    }
   ],
   "source": [
    "print(\"{0:^10}\" .format(\"hi\"))"
   ]
  },
  {
   "cell_type": "markdown",
   "id": "6f8879b4",
   "metadata": {},
   "source": [
    "#### 공백 채우기\n",
    "\n",
    "채워 넣을 문자 값은 정렬 문자 <, >, ^ 바로 앞에 넣어야 한다"
   ]
  },
  {
   "cell_type": "code",
   "execution_count": 58,
   "id": "2447c7cc",
   "metadata": {},
   "outputs": [
    {
     "name": "stdout",
     "output_type": "stream",
     "text": [
      "====hi====\n"
     ]
    }
   ],
   "source": [
    "print(\"{0:=^10}\" .format(\"hi\"))"
   ]
  },
  {
   "cell_type": "markdown",
   "id": "5d76edeb",
   "metadata": {},
   "source": [
    "#### 소수점 표현하기"
   ]
  },
  {
   "cell_type": "code",
   "execution_count": 60,
   "id": "c3cf9a4d",
   "metadata": {},
   "outputs": [
    {
     "name": "stdout",
     "output_type": "stream",
     "text": [
      "1.2346\n"
     ]
    }
   ],
   "source": [
    "x = 1.234567\n",
    "print(\"{0:0.4f}\" .format(x))"
   ]
  },
  {
   "cell_type": "code",
   "execution_count": 61,
   "id": "66e24dcb",
   "metadata": {},
   "outputs": [
    {
     "name": "stdout",
     "output_type": "stream",
     "text": [
      "    1.2346\n"
     ]
    }
   ],
   "source": [
    "print(\"{0:10.4f}\" .format(x))"
   ]
  },
  {
   "cell_type": "markdown",
   "id": "226b8ffa",
   "metadata": {},
   "source": [
    "#### { 또는 } 문자 표현하기\n",
    "\n",
    "format 함수를 사용해 문자열 포매팅을 할 경우 { }와 같은 중괄호 문자를 포매팅 문자가 아닌 문자 그대로 사용하고 싶은 경우에는 {{ }}처럼 2개를 연속해서 사용하면 된다 "
   ]
  },
  {
   "cell_type": "code",
   "execution_count": 62,
   "id": "f47df6b8",
   "metadata": {},
   "outputs": [
    {
     "name": "stdout",
     "output_type": "stream",
     "text": [
      "{ and }\n"
     ]
    }
   ],
   "source": [
    "print(\"{{ and }}\".format())"
   ]
  },
  {
   "cell_type": "markdown",
   "id": "f1465136",
   "metadata": {},
   "source": [
    "### f 문자열 포매팅"
   ]
  },
  {
   "cell_type": "code",
   "execution_count": 64,
   "id": "6faa1f22",
   "metadata": {},
   "outputs": [
    {
     "name": "stdout",
     "output_type": "stream",
     "text": [
      "I ate 10 apples. So I was sick for three days\n"
     ]
    }
   ],
   "source": [
    "print((f\"I ate {number} apples. So I was sick for {day} days\") .format(number=2, day=5) )"
   ]
  },
  {
   "cell_type": "markdown",
   "id": "15144530",
   "metadata": {},
   "source": [
    "## 문자열 관련 함수들"
   ]
  },
  {
   "cell_type": "markdown",
   "id": "692fd323",
   "metadata": {},
   "source": [
    "### 문자 개수 세기 (count)"
   ]
  },
  {
   "cell_type": "code",
   "execution_count": 65,
   "id": "d0f48312",
   "metadata": {},
   "outputs": [
    {
     "name": "stdout",
     "output_type": "stream",
     "text": [
      "2\n"
     ]
    }
   ],
   "source": [
    "a = \"hobby\"\n",
    "print(a.count('b'))"
   ]
  },
  {
   "cell_type": "markdown",
   "id": "0e2b0b23",
   "metadata": {},
   "source": [
    "### 위치 알려주기1(find)\n",
    "\n",
    "-> 만약 찾는 문자나 문자열이 존재하지 않는다면 -1을 반환한다"
   ]
  },
  {
   "cell_type": "code",
   "execution_count": 66,
   "id": "0a8c84a8",
   "metadata": {},
   "outputs": [
    {
     "name": "stdout",
     "output_type": "stream",
     "text": [
      "4\n"
     ]
    }
   ],
   "source": [
    "a = \"Python is easy\"\n",
    "print(a.find('o'))"
   ]
  },
  {
   "cell_type": "markdown",
   "id": "514507c9",
   "metadata": {},
   "source": [
    "### 위치 알려주기2(index)\n",
    "\n",
    "-> 앞의 find 함수와 다른 점은 문자열 안에 존재하지 않는 문자를 찾으면 오류가 발생한다는 점이다"
   ]
  },
  {
   "cell_type": "code",
   "execution_count": 67,
   "id": "a97b98e1",
   "metadata": {},
   "outputs": [
    {
     "name": "stdout",
     "output_type": "stream",
     "text": [
      "4\n"
     ]
    }
   ],
   "source": [
    "a = \"Python is easy\"\n",
    "print(a.index('o'))"
   ]
  },
  {
   "cell_type": "markdown",
   "id": "b57e5afb",
   "metadata": {},
   "source": [
    "### 문자열 삽입(join)"
   ]
  },
  {
   "cell_type": "code",
   "execution_count": 68,
   "id": "350d6b03",
   "metadata": {},
   "outputs": [
    {
     "name": "stdout",
     "output_type": "stream",
     "text": [
      "a,b,c,d\n"
     ]
    }
   ],
   "source": [
    "print(\",\" .join('abcd'))"
   ]
  },
  {
   "cell_type": "markdown",
   "id": "286d99cb",
   "metadata": {},
   "source": [
    "### 소문자를 대문자로 바꾸기(upper)"
   ]
  },
  {
   "cell_type": "code",
   "execution_count": 69,
   "id": "4dcf1e0d",
   "metadata": {},
   "outputs": [
    {
     "name": "stdout",
     "output_type": "stream",
     "text": [
      "HI\n"
     ]
    }
   ],
   "source": [
    "a = \"hi\"\n",
    "print(a.upper())"
   ]
  },
  {
   "cell_type": "markdown",
   "id": "78f32c83",
   "metadata": {},
   "source": [
    "### 대문자를 소문자로 바꾸기(lower)"
   ]
  },
  {
   "cell_type": "code",
   "execution_count": 70,
   "id": "3c728d38",
   "metadata": {},
   "outputs": [
    {
     "name": "stdout",
     "output_type": "stream",
     "text": [
      "hi\n"
     ]
    }
   ],
   "source": [
    "a = \"HI\"\n",
    "print(a.lower())"
   ]
  },
  {
   "cell_type": "markdown",
   "id": "690b8010",
   "metadata": {},
   "source": [
    " ### 왼쪽 공백 지우기(lstrip)\n",
    " ### 오른쪽 공백 지우기(rstrip)\n",
    " ### 양쪽 공백 지우기(rstrip)"
   ]
  },
  {
   "cell_type": "markdown",
   "id": "23c97e64",
   "metadata": {},
   "source": [
    "### 문자열 바꾸기(replace)"
   ]
  },
  {
   "cell_type": "code",
   "execution_count": 73,
   "id": "7927d4ba",
   "metadata": {},
   "outputs": [
    {
     "name": "stdout",
     "output_type": "stream",
     "text": [
      "C language is easy\n"
     ]
    }
   ],
   "source": [
    "a = \"Python is easy\"\n",
    "print(a.replace(\"Python\", \"C language\"))"
   ]
  },
  {
   "cell_type": "markdown",
   "id": "b2a1736a",
   "metadata": {},
   "source": [
    "### 문자열 나누기(split)\n",
    "\n",
    "-> split 함수는 a.split()처럼 괄호 안에 아무값도 넣어 주지 않으면 공백(스페이스, 탭, 엔터 등)을 기준으로 문자열을 나누어 준다"
   ]
  },
  {
   "cell_type": "code",
   "execution_count": 74,
   "id": "d49b51c1",
   "metadata": {},
   "outputs": [
    {
     "name": "stdout",
     "output_type": "stream",
     "text": [
      "['Python', 'is', 'easy']\n"
     ]
    }
   ],
   "source": [
    "a = \"Python is easy\"\n",
    "print(a.split())"
   ]
  }
 ],
 "metadata": {
  "kernelspec": {
   "display_name": "Python 3 (ipykernel)",
   "language": "python",
   "name": "python3"
  },
  "language_info": {
   "codemirror_mode": {
    "name": "ipython",
    "version": 3
   },
   "file_extension": ".py",
   "mimetype": "text/x-python",
   "name": "python",
   "nbconvert_exporter": "python",
   "pygments_lexer": "ipython3",
   "version": "3.10.9"
  }
 },
 "nbformat": 4,
 "nbformat_minor": 5
}
