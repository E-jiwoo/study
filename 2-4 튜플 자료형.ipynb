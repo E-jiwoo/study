{
 "cells": [
  {
   "cell_type": "markdown",
   "id": "8e9c4a37",
   "metadata": {},
   "source": [
    "## 튜플과 리스트의 차이\n",
    "\n",
    "\n",
    "리스트는 [ ]으로 둘러싸지만 튜플은 ( )으로 둘러싼다\n",
    "\n",
    "리스트는 요소 값의 생성, 삭제, 수정이 가능하지만 튜플은 요소 값을 바꿀 수 없다\n",
    "\n",
    "t2 = (1, )처럼 단지 1개의 요소만을 가질 때는 요소 뒤에 콤마(,)를 반드시 붙여야 한다\n",
    "\n",
    "t4 = 1, 2, 3처럼 괄호()를 생략해도 된다"
   ]
  },
  {
   "cell_type": "markdown",
   "id": "55477fa2",
   "metadata": {},
   "source": [
    "##  튜플 다루기\n",
    "\n",
    "-> 튜플은 요솟값을 변경할 수 없기 때문에 sort, insert, remove, pop과 같은 내장 함수가 없다"
   ]
  },
  {
   "cell_type": "markdown",
   "id": "fb79b907",
   "metadata": {},
   "source": [
    "### 인덱싱하기"
   ]
  },
  {
   "cell_type": "code",
   "execution_count": 3,
   "id": "865644c5",
   "metadata": {},
   "outputs": [
    {
     "name": "stdout",
     "output_type": "stream",
     "text": [
      "1\n",
      "b\n"
     ]
    }
   ],
   "source": [
    "t1 = (1, 2, 'a', 'b')\n",
    "print(t1[0])\n",
    "print(t1[3])"
   ]
  },
  {
   "cell_type": "markdown",
   "id": "9fb66e8d",
   "metadata": {},
   "source": [
    "### 슬라이싱하기"
   ]
  },
  {
   "cell_type": "code",
   "execution_count": 4,
   "id": "0e523923",
   "metadata": {},
   "outputs": [
    {
     "name": "stdout",
     "output_type": "stream",
     "text": [
      "(2, 'a', 'b')\n"
     ]
    }
   ],
   "source": [
    "t1 = (1, 2, 'a', 'b')\n",
    "print(t1[1:])"
   ]
  },
  {
   "cell_type": "markdown",
   "id": "5b2018ab",
   "metadata": {},
   "source": [
    "### 튜플 더하기"
   ]
  },
  {
   "cell_type": "code",
   "execution_count": 5,
   "id": "77128fd0",
   "metadata": {},
   "outputs": [
    {
     "name": "stdout",
     "output_type": "stream",
     "text": [
      "(1, 2, 'a', 'b', 3, 4)\n"
     ]
    }
   ],
   "source": [
    "t1 = (1, 2, 'a', 'b')\n",
    "t2 = (3, 4)\n",
    "t3 = t1 + t2\n",
    "print(t3)"
   ]
  },
  {
   "cell_type": "markdown",
   "id": "81d3d769",
   "metadata": {},
   "source": [
    "### 튜플 곱하기"
   ]
  },
  {
   "cell_type": "code",
   "execution_count": 6,
   "id": "a8a5baaa",
   "metadata": {},
   "outputs": [
    {
     "name": "stdout",
     "output_type": "stream",
     "text": [
      "(3, 4, 3, 4, 3, 4)\n"
     ]
    }
   ],
   "source": [
    "t2 = (3,4)\n",
    "t3 = t2 * 3\n",
    "print(t3)"
   ]
  },
  {
   "cell_type": "markdown",
   "id": "ef80298c",
   "metadata": {},
   "source": [
    "### 튜플 길이 구하기"
   ]
  },
  {
   "cell_type": "code",
   "execution_count": 7,
   "id": "5c7ce456",
   "metadata": {},
   "outputs": [
    {
     "name": "stdout",
     "output_type": "stream",
     "text": [
      "4\n"
     ]
    }
   ],
   "source": [
    "t1 = (1, 2, 'a', 'b')\n",
    "print(len(t1))"
   ]
  }
 ],
 "metadata": {
  "kernelspec": {
   "display_name": "Python 3 (ipykernel)",
   "language": "python",
   "name": "python3"
  },
  "language_info": {
   "codemirror_mode": {
    "name": "ipython",
    "version": 3
   },
   "file_extension": ".py",
   "mimetype": "text/x-python",
   "name": "python",
   "nbconvert_exporter": "python",
   "pygments_lexer": "ipython3",
   "version": "3.10.9"
  }
 },
 "nbformat": 4,
 "nbformat_minor": 5
}
