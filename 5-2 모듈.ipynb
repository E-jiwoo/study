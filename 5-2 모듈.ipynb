{
 "cells": [
  {
   "cell_type": "markdown",
   "id": "d3b4f5c1",
   "metadata": {},
   "source": [
    "## 모듈 만들기\n",
    "\n",
    "sub 함수만 있는 파일을 만들고 C:\\doit 디렉터리에 저장한다\n",
    "    \n",
    "파이썬 확장자 .py로 만든 파이썬 파일은 모두 모듈이다"
   ]
  },
  {
   "cell_type": "markdown",
   "id": "081e62b0",
   "metadata": {},
   "source": [
    "## 모듈 불러오기\n",
    "\n",
    "import 모듈이름\n",
    "\n",
    "(함수 이름만 쓰고 싶은 경우에는\n",
    "\n",
    "from 모듈이름 import 모듈함수\n",
    "\n",
    ")\n",
    "\n",
    "import는 이미 만들어 놓은 파이썬 모듈을 사용할 수 있게 해주는 명령어이다\n",
    "\n",
    "import는 현재 디렉터리에 있는 파일이나 파이썬 라이브러리가 저장된 디렉터리에 있는 모듈만 불러올 수 있다\n",
    "\n",
    "add함수와 sub함수를 둘 다 사용하고 싶다면\n",
    "\n",
    "- from 모듈이름 import 모듈함수1, 모듈함수2처럼 콤마로 구분하여 필요한 함수를 불러오는 방법\n",
    "\n",
    "-*(모든 것)문자를 사용하는 방법"
   ]
  },
  {
   "cell_type": "markdown",
   "id": "7bd901b9",
   "metadata": {},
   "source": [
    "## If_name_==\"_main_\"의 의미\n",
    "\n",
    "직접 파일을 실행했을 때 If_name_==\"_main_\"이 참이 되어 if문 다음 문장이 수행된다 \n",
    "\n",
    "반대로 대화형 인터프리터나 다른 파일에서 이 모듈을 불러서 사용할 때는 If_name_==\"_main_\"이 거짓이 되어 if문 다음 문장이 수행되지 않는다\n",
    "\n",
    "_name_ 변수\n",
    "\n",
    ": 파이썬이 내부적으로 사용하는 특별한 변수 이름"
   ]
  },
  {
   "cell_type": "markdown",
   "id": "d5a45a03",
   "metadata": {},
   "source": [
    "## 클래스나 변수 등을 포함한 모듈\n",
    "\n",
    "모듈 안에 있는 클래스를 사용하려면 \".\"(도트 연산자)로 클래스 이름 앞에 모듈 이름을 먼저 입력해야 한다"
   ]
  },
  {
   "cell_type": "markdown",
   "id": "289a53ad",
   "metadata": {},
   "source": [
    "### 다른 파일에서 모듈 불러오기\n",
    "\n",
    "-파이썬 파일에서도 import mod2로 mod2 모듈을 불러와서 사용할 수 있다\n",
    "\n",
    "-sys.path.append 사용하기\n",
    "\n",
    "sys모듈: 파이썬을 설치할 때 함께 설치되는 라이브러리 모듈\n",
    "\n",
    "-PYTHONPATH 환경 변수 사용하기\n",
    "\n",
    "(맥이나 유닉스 환경에서는 set 대신 export 명령을 사용해야 한다)"
   ]
  }
 ],
 "metadata": {
  "kernelspec": {
   "display_name": "Python 3 (ipykernel)",
   "language": "python",
   "name": "python3"
  },
  "language_info": {
   "codemirror_mode": {
    "name": "ipython",
    "version": 3
   },
   "file_extension": ".py",
   "mimetype": "text/x-python",
   "name": "python",
   "nbconvert_exporter": "python",
   "pygments_lexer": "ipython3",
   "version": "3.10.9"
  }
 },
 "nbformat": 4,
 "nbformat_minor": 5
}
