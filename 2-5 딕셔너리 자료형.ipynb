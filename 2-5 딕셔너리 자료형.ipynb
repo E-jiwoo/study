{
 "cells": [
  {
   "cell_type": "markdown",
   "id": "f6996b18",
   "metadata": {},
   "source": [
    "# 딕셔너리\n",
    "\n",
    "대응 관계를 나타내는 자료형인 연관 배열 또는 해시를 가지고 있다\n",
    "\n",
    "Key와 Value를 한 쌍으로 갖는 자료형이다\n",
    "\n",
    "리스트나 튜플처럼 순차적으로 해당 요솟값을 구하지 않고 key를 통해 Value를 얻는다"
   ]
  },
  {
   "cell_type": "markdown",
   "id": "94f12015",
   "metadata": {},
   "source": [
    "## 기본 딕셔너리의 모습\n",
    "\n",
    "Key와 Value의 쌍 여러 개가 { }로 둘러싸여 있다\n",
    "\n",
    "각각의 요소는 key : Value형태로 이루어져 있고 쉼표(,)로 구분되어 있다"
   ]
  },
  {
   "cell_type": "markdown",
   "id": "1fd5cfcc",
   "metadata": {},
   "source": [
    "{Key:Value1, Key2:Value2, Key3:Value3, ...}"
   ]
  },
  {
   "cell_type": "code",
   "execution_count": 2,
   "id": "4fe0778d",
   "metadata": {},
   "outputs": [],
   "source": [
    "dic = { 'name':'pey', 'phone':'010-1234-1234', 'birth':'0311'}"
   ]
  },
  {
   "cell_type": "markdown",
   "id": "a7f22a4c",
   "metadata": {},
   "source": [
    " 위에서 Key는 각각 'name', 'phone', 'birth'이고, 각각의 Key에 해당하는 Value는 'pey', '010-1234-1234', '0311'이 된다\n",
    " \n",
    " [ 딕셔너리 dic의 정보 ]\n",
    " \n",
    " / key - value /\n",
    " \n",
    " name - pey\n",
    " \n",
    " phone - 010-1234-1234\n",
    " \n",
    " birth - 0311"
   ]
  },
  {
   "cell_type": "markdown",
   "id": "f6e637d8",
   "metadata": {},
   "source": [
    "### 딕셔너리 쌍 추가하기"
   ]
  },
  {
   "cell_type": "code",
   "execution_count": 3,
   "id": "a7976fcc",
   "metadata": {},
   "outputs": [
    {
     "name": "stdout",
     "output_type": "stream",
     "text": [
      "{1: 'a', 2: 'b'}\n"
     ]
    }
   ],
   "source": [
    "a = {1: 'a'}\n",
    "a[2] = 'b'\n",
    "print(a)"
   ]
  },
  {
   "cell_type": "code",
   "execution_count": 4,
   "id": "9cb8a9d6",
   "metadata": {},
   "outputs": [
    {
     "name": "stdout",
     "output_type": "stream",
     "text": [
      "{1: 'a', 2: 'b', 'name': 'pey'}\n"
     ]
    }
   ],
   "source": [
    "a['name'] = 'pey'\n",
    "print(a)"
   ]
  },
  {
   "cell_type": "markdown",
   "id": "bb59c3db",
   "metadata": {},
   "source": [
    "### 딕셔너리 요소 삭제하기"
   ]
  },
  {
   "cell_type": "code",
   "execution_count": 5,
   "id": "07d9d74f",
   "metadata": {},
   "outputs": [
    {
     "name": "stdout",
     "output_type": "stream",
     "text": [
      "{2: 'b', 'name': 'pey'}\n"
     ]
    }
   ],
   "source": [
    "del a[1]\n",
    "print(a)"
   ]
  },
  {
   "cell_type": "markdown",
   "id": "fd8934a1",
   "metadata": {},
   "source": [
    "## 딕셔너리 사용하는 방법"
   ]
  },
  {
   "cell_type": "markdown",
   "id": "675e4b02",
   "metadata": {},
   "source": [
    "### 딕셔너리에서 Key 사용해 Value 얻기\n",
    "\n",
    "어떤 Key의 Value를 얻기 위해서는 딕셔너리변수이름[Key]를 사용한다\n",
    "\n",
    "\n",
    "[ 주의사항 ]\n",
    "\n",
    "딕셔너리에서 Key는 고유한 값이므로 중복되는 Key 값을 설정해 놓으면 하나를 제외한 나머지 것들이 모두 무시된다\n",
    "\n",
    "Key에 리스트는 쓸 수 없다\n",
    "(Key 값이 변할 수 있기 때문에 Key로 쓸 수 없다)\n",
    "\n",
    "하지만 튜플은 key로 쓸 수 있다\n",
    "\n",
    "단, Value에는 변하는 값이든 변하지 않는 값이든 상관없이 아무 값이나 넣을 수 있다"
   ]
  },
  {
   "cell_type": "code",
   "execution_count": 6,
   "id": "df2ba271",
   "metadata": {},
   "outputs": [
    {
     "name": "stdout",
     "output_type": "stream",
     "text": [
      "{1: 'b'}\n"
     ]
    }
   ],
   "source": [
    "a = {1:'a', 1:'b'}\n",
    "print(a)"
   ]
  },
  {
   "cell_type": "markdown",
   "id": "ae6b7bd8",
   "metadata": {},
   "source": [
    "### 딕셔너리 관련 함수들"
   ]
  },
  {
   "cell_type": "markdown",
   "id": "852700d5",
   "metadata": {},
   "source": [
    "#### Key 리스트 만들기(keys)\n",
    "\n",
    "a.keys()는 딕셔너리 a의 key만을 모아서 dict_keys 객체를 리턴한다\n",
    "\n",
    "dict_keys 객체는 리스트를 사용하는 것과 차이가 없지만, 리스트 고유의 append, insertm popm remove, sort 함수는 수행할 수 없다"
   ]
  },
  {
   "cell_type": "code",
   "execution_count": 7,
   "id": "c66ea837",
   "metadata": {},
   "outputs": [
    {
     "name": "stdout",
     "output_type": "stream",
     "text": [
      "dict_keys(['name', 'phone', 'birth'])\n"
     ]
    }
   ],
   "source": [
    "a = { 'name':'pey', 'phone':'010-1234-1234', 'birth':'0311'}\n",
    "print(a.keys())"
   ]
  },
  {
   "cell_type": "markdown",
   "id": "97e43fc9",
   "metadata": {},
   "source": [
    "dic_keys 객체를 리스트로 변환하려면 다음과 같이 하면 된다"
   ]
  },
  {
   "cell_type": "code",
   "execution_count": 9,
   "id": "6023f28e",
   "metadata": {},
   "outputs": [
    {
     "data": {
      "text/plain": [
       "['name', 'phone', 'birth']"
      ]
     },
     "execution_count": 9,
     "metadata": {},
     "output_type": "execute_result"
    }
   ],
   "source": [
    "list(a.keys())\n",
    "['name', 'phone', 'birth']"
   ]
  },
  {
   "cell_type": "markdown",
   "id": "c306c881",
   "metadata": {},
   "source": [
    "#### Value 리스트 만들기(values)\n",
    "\n",
    "Value만 얻고 싶다면 values 함수를 사용하면 된다\n",
    "\n",
    "values 함수를 호출하면 dict_values 객체를 돌려준다"
   ]
  },
  {
   "cell_type": "code",
   "execution_count": 10,
   "id": "23d0b952",
   "metadata": {},
   "outputs": [
    {
     "name": "stdout",
     "output_type": "stream",
     "text": [
      "dict_values(['pey', '010-1234-1234', '0311'])\n"
     ]
    }
   ],
   "source": [
    "print(a.values())"
   ]
  },
  {
   "cell_type": "markdown",
   "id": "15c698a7",
   "metadata": {},
   "source": [
    "#### Key, Value 쌍 얻기(items)\n",
    "\n",
    "Key와 Value의 쌍을 튜플로 묶은 값을 dict_items 객체로 돌려준다"
   ]
  },
  {
   "cell_type": "code",
   "execution_count": 11,
   "id": "b85c51b5",
   "metadata": {},
   "outputs": [
    {
     "name": "stdout",
     "output_type": "stream",
     "text": [
      "dict_items([('name', 'pey'), ('phone', '010-1234-1234'), ('birth', '0311')])\n"
     ]
    }
   ],
   "source": [
    "print(a.items())"
   ]
  },
  {
   "cell_type": "markdown",
   "id": "a8223e92",
   "metadata": {},
   "source": [
    "#### Key: Value 쌍 모두 지우기(clear)\n",
    "\n",
    "딕셔너리 안의 모든 요소를 삭제한다\n",
    "\n",
    "빈 리스트를 [ ], 빈 튜플을 ( )로 표현하는 것과 마찬가지로 빈 딕셔너리도 { }로 표현한다"
   ]
  },
  {
   "cell_type": "code",
   "execution_count": 12,
   "id": "21c94a74",
   "metadata": {},
   "outputs": [
    {
     "name": "stdout",
     "output_type": "stream",
     "text": [
      "{}\n"
     ]
    }
   ],
   "source": [
    "a.clear()\n",
    "print(a)"
   ]
  },
  {
   "cell_type": "markdown",
   "id": "721fd3b5",
   "metadata": {},
   "source": [
    "#### Key로 Value얻기(get)\n",
    "\n",
    "get(x)함수는 x라는 Key에 대응되는 Value를 리턴한다\n",
    "\n",
    "딕셔너리 안에 찾으려는 Key가 없을 경우 미리 정해 둔 디폴트 값을 대신 가져오게 하고 싶을 때에는 get(x, '디폴트 값')을 사용하면 편리하다"
   ]
  },
  {
   "cell_type": "code",
   "execution_count": 13,
   "id": "e8054e28",
   "metadata": {},
   "outputs": [
    {
     "name": "stdout",
     "output_type": "stream",
     "text": [
      "pey\n"
     ]
    }
   ],
   "source": [
    "a = { 'name':'pey', 'phone':'010-1234-1234', 'birth':'0311'}\n",
    "print(a.get('name'))"
   ]
  },
  {
   "cell_type": "code",
   "execution_count": 14,
   "id": "7afe111d",
   "metadata": {},
   "outputs": [
    {
     "name": "stdout",
     "output_type": "stream",
     "text": [
      "foo\n"
     ]
    }
   ],
   "source": [
    "print(a.get('nokey', 'foo'))"
   ]
  },
  {
   "cell_type": "markdown",
   "id": "a2cfc8d5",
   "metadata": {},
   "source": [
    "#### 해당 Key가 딕셔너리 안에 있는지 조사하기(in)\n",
    "\n",
    "딕셔너리 안에 존재하면 참(True)를 리턴하고 존재하지 않으면 거짓(False)를 리턴한다"
   ]
  },
  {
   "cell_type": "code",
   "execution_count": 15,
   "id": "44acb732",
   "metadata": {},
   "outputs": [
    {
     "name": "stdout",
     "output_type": "stream",
     "text": [
      "True\n",
      "False\n"
     ]
    }
   ],
   "source": [
    "a = { 'name':'pey', 'phone':'010-1234-1234', 'birth':'0311'}\n",
    "print('name' in a) \n",
    "print('email' in a)"
   ]
  }
 ],
 "metadata": {
  "kernelspec": {
   "display_name": "Python 3 (ipykernel)",
   "language": "python",
   "name": "python3"
  },
  "language_info": {
   "codemirror_mode": {
    "name": "ipython",
    "version": 3
   },
   "file_extension": ".py",
   "mimetype": "text/x-python",
   "name": "python",
   "nbconvert_exporter": "python",
   "pygments_lexer": "ipython3",
   "version": "3.10.9"
  }
 },
 "nbformat": 4,
 "nbformat_minor": 5
}
