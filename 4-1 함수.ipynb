{
 "cells": [
  {
   "cell_type": "markdown",
   "id": "f79cfe08",
   "metadata": {},
   "source": [
    "# 함수\n",
    "\n",
    "입력값을 가지고 어떤 일을 수행한 다음에 그 결과물을 내어놓는 것\n",
    "\n",
    "반복되는 부분이 있을 경우 \"반복적으로 사용되는 가치 있는 부분\"을 한 뭉치로 묶어서 \"어떤 입력값을 주었을 때 어떤 결괏값을 돌려준다\"라는 식의 함수로 작성하는 것이 현명하다\n",
    "\n",
    "자신이 작성한 프로그램을 기능 단위의 함수로 분리해 놓으면 프로그램 흐름을 일목요연하게 볼 수 있기 때문에 함수를 사용한다.\n",
    "\n",
    "프로그램에서도 입력한 값이 여러 함수를 거치면서 원하는 결괏값을 내는 것을 볼 수 있다. 이렇게 되면 프로그램 흐름도 잘 파악할 수 있고 오류가 어디에서 나는지도 쉽게 알아차릴 수 있다"
   ]
  },
  {
   "cell_type": "markdown",
   "id": "3a0bebf4",
   "metadata": {},
   "source": [
    "## 파이썬 함수의 구조\n",
    "\n",
    "def 함수명(매개변수):\n",
    "\n",
    "    수행할 문장1\n",
    "    수행할 문장2\n",
    "    ...\n",
    "    \n",
    "def는 함수를 만들 때 사용하는 예약어이며, 함수명은 함수를 만드는 사람이 임의로 만들 수 있다 \n",
    "\n",
    "함수명 뒤 괄호 안의 매개변수는 이 함수에 입력으로 전달되는 값을 받는 변수이다\n",
    "\n",
    "이렇게 함수를 정의한 다음 if, while, for문 등과 마찬가지로 함수에서 수행할 문장을 입력한다"
   ]
  },
  {
   "cell_type": "code",
   "execution_count": 1,
   "id": "a922d854",
   "metadata": {},
   "outputs": [
    {
     "name": "stdout",
     "output_type": "stream",
     "text": [
      "7\n"
     ]
    }
   ],
   "source": [
    "def add(a, b):\n",
    "    return a+b\n",
    "\n",
    "a = 3\n",
    "b = 4\n",
    "c = add(a,b)\n",
    "print(c)"
   ]
  },
  {
   "cell_type": "markdown",
   "id": "99e019f5",
   "metadata": {},
   "source": [
    "## 매개변수와 인수\n",
    "\n",
    "매개변수: 함수에 입력으로 전달된 값을 받는 변수\n",
    "    \n",
    "인수: 함수에 전달하는 값"
   ]
  },
  {
   "cell_type": "markdown",
   "id": "8493568b",
   "metadata": {},
   "source": [
    "def add(a, b): #a, b는 매개변수\n",
    "\n",
    "    return a+b\n",
    "\n",
    "print(add,(3,4)) #3, 4는 인수"
   ]
  },
  {
   "cell_type": "markdown",
   "id": "33f32a56",
   "metadata": {},
   "source": [
    "## 입력값과 리턴값에 따른 함수의 형태\n",
    "\n",
    "함수는 들어온 입력값을 받아 어떤 처리를 하여 적절한 리턴값을 돌려준다\n",
    "\n",
    "입력값 --> 함수 --> 리턴값"
   ]
  },
  {
   "cell_type": "markdown",
   "id": "b0bb534f",
   "metadata": {},
   "source": [
    "## 함수의 형태"
   ]
  },
  {
   "cell_type": "markdown",
   "id": "1bd73c3a",
   "metadata": {},
   "source": [
    "### 일반적인 함수\n",
    "\n",
    "입력값이 있고 리턴값이 있는 함수\n",
    "\n",
    "리턴값을 받을 변수 = 함수이름(입력인수1, 입력인수2...)"
   ]
  },
  {
   "cell_type": "markdown",
   "id": "90b0e629",
   "metadata": {},
   "source": [
    "def 함수이름(매개변수):\n",
    "    \n",
    "    수행할 문장\n",
    "    \n",
    "    ...\n",
    "    \n",
    "    return 리턴값"
   ]
  },
  {
   "cell_type": "markdown",
   "id": "5c4958c9",
   "metadata": {},
   "source": [
    "## 입력값이 없는 함수\n",
    "\n",
    "리턴값을 받을 변수 = 함수이름()"
   ]
  },
  {
   "cell_type": "code",
   "execution_count": 5,
   "id": "9e6af607",
   "metadata": {},
   "outputs": [
    {
     "name": "stdout",
     "output_type": "stream",
     "text": [
      "Hi\n"
     ]
    }
   ],
   "source": [
    "def say():\n",
    "    return 'Hi'\n",
    "\n",
    "a = say()\n",
    "print(a)"
   ]
  },
  {
   "cell_type": "markdown",
   "id": "4fb9273d",
   "metadata": {},
   "source": [
    "## 리턴값이 없는 함수\n",
    "\n",
    "함수이름(입력인수1, 입력인수2, ...)\n",
    "\n",
    "print문은 함수의 구성 요소 중 하나의 <수행할 문장>에 해당하는 부분일 뿐이다\n",
    "\n",
    "리턴값은 오직 return 명령어로만 돌려받을 수 있다\n",
    "\n",
    "None을 리턴한다는 것은 리턴갑싱 없다는 것이다"
   ]
  },
  {
   "cell_type": "code",
   "execution_count": 6,
   "id": "3ef3ceba",
   "metadata": {},
   "outputs": [],
   "source": [
    "def add(a, b):\n",
    "    print(\"%d, %d의 합은 %d입니다.\" %(a, b, a+b))"
   ]
  },
  {
   "cell_type": "code",
   "execution_count": 8,
   "id": "079a6dac",
   "metadata": {},
   "outputs": [
    {
     "name": "stdout",
     "output_type": "stream",
     "text": [
      "3, 4의 합은 7입니다.\n",
      "None\n"
     ]
    }
   ],
   "source": [
    "print(add(3, 4))"
   ]
  },
  {
   "cell_type": "markdown",
   "id": "e29c7517",
   "metadata": {},
   "source": [
    "## 입력값도 리턴값도 없는 함수\n",
    "\n",
    "입력 인수를 받는 매개변수도 없고 return문도 없으니 입력값도 리턴값도 없는 함수\n",
    "\n",
    "함수이름()"
   ]
  },
  {
   "cell_type": "code",
   "execution_count": 13,
   "id": "77bbc229",
   "metadata": {},
   "outputs": [],
   "source": [
    "def say():\n",
    "    print('Hi')"
   ]
  },
  {
   "cell_type": "code",
   "execution_count": 14,
   "id": "cef0d9da",
   "metadata": {},
   "outputs": [
    {
     "name": "stdout",
     "output_type": "stream",
     "text": [
      "Hi\n"
     ]
    }
   ],
   "source": [
    "say()"
   ]
  },
  {
   "cell_type": "markdown",
   "id": "68afdc11",
   "metadata": {},
   "source": [
    "## 매개변수 지정하여 호출하기\n",
    "\n",
    "매개변수를 지정하면 순서에 상관없이 사용할 수 있다는 장점이 있다\n",
    "\n",
    "sub함수: 두개의 숫자를 입력 받아 첫번째 수에서 두번째 수를 뺄셈하여 리턴하는 함수"
   ]
  },
  {
   "cell_type": "code",
   "execution_count": 16,
   "id": "1afa0fab",
   "metadata": {},
   "outputs": [],
   "source": [
    "def sub(a, b):\n",
    "    return a - b"
   ]
  },
  {
   "cell_type": "code",
   "execution_count": 17,
   "id": "e97b0aad",
   "metadata": {},
   "outputs": [
    {
     "name": "stdout",
     "output_type": "stream",
     "text": [
      "4\n"
     ]
    }
   ],
   "source": [
    "result = sub(a=7, b=3) #a에 7, b에 3을 전달\n",
    "print(result)"
   ]
  },
  {
   "cell_type": "code",
   "execution_count": 18,
   "id": "5e6db064",
   "metadata": {},
   "outputs": [
    {
     "name": "stdout",
     "output_type": "stream",
     "text": [
      "-2\n"
     ]
    }
   ],
   "source": [
    "result = sub(b=5, a=3) #b에 5, a에 3을 전달\n",
    "print(result)"
   ]
  },
  {
   "cell_type": "markdown",
   "id": "4cce2409",
   "metadata": {},
   "source": [
    "## 키워드 매개변수 kwargs\n",
    "\n",
    "kwargs는 keyword arguments의 약자이며 args와 마찬가지로 관례적으로 사용한다"
   ]
  },
  {
   "cell_type": "code",
   "execution_count": 19,
   "id": "36e49b3e",
   "metadata": {},
   "outputs": [],
   "source": [
    "def print_kwargs(**kwargs):\n",
    "    print(kwargs)"
   ]
  },
  {
   "cell_type": "code",
   "execution_count": 20,
   "id": "e647ac15",
   "metadata": {},
   "outputs": [
    {
     "name": "stdout",
     "output_type": "stream",
     "text": [
      "{'a': 1}\n"
     ]
    }
   ],
   "source": [
    "print_kwargs(a=1)"
   ]
  },
  {
   "cell_type": "code",
   "execution_count": 21,
   "id": "015041a5",
   "metadata": {},
   "outputs": [
    {
     "name": "stdout",
     "output_type": "stream",
     "text": [
      "{'name': 'foo', 'age': 3}\n"
     ]
    }
   ],
   "source": [
    "print_kwargs(name='foo', age=3)"
   ]
  },
  {
   "cell_type": "markdown",
   "id": "9cc75b6b",
   "metadata": {},
   "source": [
    "## 함수의 리턴값은 언제나 하나이다\n",
    "\n",
    "함수는 return 문을 만나는 순간 리턴값을 돌려준 다음 함수를 빠져나가게 된다\n",
    "\n",
    "특별한 상황일 때 함수를 빠져나가고 싶다면 return을 단독으로 써서 함수를 즉시 빠져나갈 수 있다"
   ]
  },
  {
   "cell_type": "code",
   "execution_count": 23,
   "id": "e928c051",
   "metadata": {},
   "outputs": [],
   "source": [
    "def say_nick(nick):\n",
    "    if nick == \"바보\":\n",
    "        return\n",
    "    print(\"나의 별명은 %s 입니다.\" % nick)"
   ]
  },
  {
   "cell_type": "markdown",
   "id": "134165d5",
   "metadata": {},
   "source": [
    "## 매개변수에 초깃값 미리 설정하기\n",
    "\n",
    "man=True처럼 매개변수에 미리 값을 넣어둔다"
   ]
  },
  {
   "cell_type": "code",
   "execution_count": 24,
   "id": "0918f57b",
   "metadata": {},
   "outputs": [],
   "source": [
    "def say_myself(name, age, man=True):\n",
    "    print(\"나의 이름은 %s 입니다.\" % name)\n",
    "    print(\"나이는 %d살입니다.\" % age)\n",
    "    if man:\n",
    "        print(\"남자입니다.\")\n",
    "    else:\n",
    "        print(\"여자입니다.\")"
   ]
  },
  {
   "cell_type": "markdown",
   "id": "d6ea7f5c",
   "metadata": {},
   "source": [
    "## 함수 안에서 함수 밖의 변수를 변경하는 방법"
   ]
  },
  {
   "cell_type": "markdown",
   "id": "6f37939f",
   "metadata": {},
   "source": [
    "### return 사용하기"
   ]
  },
  {
   "cell_type": "code",
   "execution_count": 25,
   "id": "2bf55d39",
   "metadata": {},
   "outputs": [
    {
     "name": "stdout",
     "output_type": "stream",
     "text": [
      "2\n"
     ]
    }
   ],
   "source": [
    "a = 1\n",
    "def vartest(a):\n",
    "    a = a+1\n",
    "    return a\n",
    "\n",
    "a = vartest(a)\n",
    "print(a)"
   ]
  },
  {
   "cell_type": "markdown",
   "id": "de957a97",
   "metadata": {},
   "source": [
    "vartest 함수는 입력으로 들어온 값에 1을 더한 값을 리턴하도록 변경했다\n",
    "\n",
    "따라서 a=vartest(a)라고 작성하면 a에는 vartest함수의 리턴값이 대입된다\n",
    "\n",
    "vartest 함수 안의 a 매개변수는 함수 밖의 a와는 다른 것이다"
   ]
  },
  {
   "cell_type": "markdown",
   "id": "28342d1e",
   "metadata": {},
   "source": [
    "### global 명령어 사용하기"
   ]
  },
  {
   "cell_type": "code",
   "execution_count": 26,
   "id": "1f7531fe",
   "metadata": {},
   "outputs": [
    {
     "name": "stdout",
     "output_type": "stream",
     "text": [
      "2\n"
     ]
    }
   ],
   "source": [
    "a = 1\n",
    "def vartest():\n",
    "    global a\n",
    "    a = a+1\n",
    "    \n",
    "vartest()\n",
    "print(a)"
   ]
  },
  {
   "cell_type": "markdown",
   "id": "adcaf231",
   "metadata": {},
   "source": [
    "가급적이면 global 명령어를 사용하는 방법은 피하고 첫 번째 방법을 사용하기를 권한다"
   ]
  },
  {
   "cell_type": "markdown",
   "id": "92f02c05",
   "metadata": {},
   "source": [
    "## lambda\n",
    "\n",
    "함수를 생성할 때 사용하는 예약어로 def와 동일한 역할을 한다\n",
    "\n",
    "보통 함수를 한줄로 간결하게 만들 때 사용한다\n",
    "\n",
    "우리말로는 \"람다\"라고 읽고 def를 사용해야 할 정도로 복잡하지 않거나 def를 사용할 수 없는 곳에 주로 쓰인다\n",
    "\n",
    "함수명 = lambda 매개변수1, 매개변수2, ...: 매개변수를 이용한 표현식\n",
    "\n",
    "lambda로 만든 함수는 return 명령어가 없어도 표현식의 결괏값을 리턴한다\n",
    "\n",
    "add는 두 개의 인수를 받아 서로 더한 값을 리턴하는 lambda 함수이다"
   ]
  },
  {
   "cell_type": "code",
   "execution_count": 27,
   "id": "005aa6a3",
   "metadata": {},
   "outputs": [
    {
     "name": "stdout",
     "output_type": "stream",
     "text": [
      "7\n"
     ]
    }
   ],
   "source": [
    "add = lambda a, b: a+b\n",
    "result = add(3,4)\n",
    "print(result)"
   ]
  },
  {
   "cell_type": "code",
   "execution_count": 28,
   "id": "34eccf5e",
   "metadata": {},
   "outputs": [
    {
     "name": "stdout",
     "output_type": "stream",
     "text": [
      "7\n"
     ]
    }
   ],
   "source": [
    "def add(a,b):\n",
    "    return a+b\n",
    "\n",
    "result = add(3,4)\n",
    "print(result)"
   ]
  }
 ],
 "metadata": {
  "kernelspec": {
   "display_name": "Python 3 (ipykernel)",
   "language": "python",
   "name": "python3"
  },
  "language_info": {
   "codemirror_mode": {
    "name": "ipython",
    "version": 3
   },
   "file_extension": ".py",
   "mimetype": "text/x-python",
   "name": "python",
   "nbconvert_exporter": "python",
   "pygments_lexer": "ipython3",
   "version": "3.10.9"
  }
 },
 "nbformat": 4,
 "nbformat_minor": 5
}
